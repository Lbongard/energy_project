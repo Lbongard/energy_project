{
 "cells": [
  {
   "cell_type": "code",
   "execution_count": 6,
   "id": "786a6b5f-52b6-498b-90a6-d3f0f11040f9",
   "metadata": {},
   "outputs": [],
   "source": [
    "import pandas as pd\n",
    "import numpy as np\n",
    "import statsmodels.formula.api as smf\n",
    "from sklearn import metrics\n",
    "from sklearn.ensemble import RandomForestClassifier\n",
    "from sklearn.model_selection import RandomizedSearchCV\n",
    "from xgboost import XGBClassifier\n",
    "import matplotlib.pyplot as plt\n",
    "\n",
    "#pd.set_option('display.max_columns', None)\n",
    "#pd.set_option('display.max_rows', None)\n",
    "pd.reset_option('display.max_rows')"
   ]
  },
  {
   "cell_type": "code",
   "execution_count": 7,
   "id": "2b437283-9477-45a8-80f2-762aeb49d116",
   "metadata": {},
   "outputs": [],
   "source": [
    "df = pd.read_csv('./Cleaned_Data/dart_and_feature_data_v3.csv', index_col=0)\n",
    "df.index = pd.to_datetime(df.index, format='%Y-%m-%d', utc=True)\n",
    "df.index = df.index.tz_convert(\"America/Los_Angeles\")"
   ]
  },
  {
   "cell_type": "code",
   "execution_count": 8,
   "id": "f5ac3aec-e0a6-4a8c-893b-ad7409a34acc",
   "metadata": {},
   "outputs": [],
   "source": [
    "df.columns = ['_'.join(colname.split()) for colname in df.columns]\n",
    "df.columns = [colname.replace('-','_') for colname in df.columns]"
   ]
  },
  {
   "cell_type": "code",
   "execution_count": 9,
   "id": "4dfd96dd-4528-4cc0-8090-80a2a701695c",
   "metadata": {},
   "outputs": [
    {
     "data": {
      "text/plain": [
       "Index(['RT_LMP', 'RT_MCC', 'RT_MCE', 'RT_MCL', 'RT_MGHG', 'DA_LMP', 'DA_MCC',\n",
       "       'DA_MCE', 'DA_MCL', 'DA_MGHG', 'Export', 'Generation', 'Import',\n",
       "       'NP15_Solar_Renewable_Forecast_Actual_Generation',\n",
       "       'NP15_Wind_Renewable_Forecast_Actual_Generation',\n",
       "       'SP15_Solar_Renewable_Forecast_Actual_Generation',\n",
       "       'SP15_Wind_Renewable_Forecast_Actual_Generation',\n",
       "       'ZP26_Solar_Renewable_Forecast_Actual_Generation',\n",
       "       'NP15_Solar_Renewable_Forecast_Day_Ahead',\n",
       "       'NP15_Wind_Renewable_Forecast_Day_Ahead',\n",
       "       'SP15_Solar_Renewable_Forecast_Day_Ahead',\n",
       "       'SP15_Wind_Renewable_Forecast_Day_Ahead',\n",
       "       'ZP26_Solar_Renewable_Forecast_Day_Ahead',\n",
       "       'HLY_CLDH_NORMAL_USW00023174', 'HLY_CLDH_NORMAL_USW00023188',\n",
       "       'HLY_HTDH_NORMAL_USW00023174', 'HLY_HTDH_NORMAL_USW00023188',\n",
       "       'HLY_TEMP_NORMAL_USW00023174', 'HLY_TEMP_NORMAL_USW00023188', 'DART',\n",
       "       'DART_spike_15', 'DART_spike_30', 'DART_spike_45', 'DART_spike_60',\n",
       "       'friday', 'weekend', 'hour', 'Total_Solar_Actual',\n",
       "       'Total_Solar_Forecast', 'Total_Wind_Actual', 'Total_Wind_Forecast',\n",
       "       'Total_Wind_Solar_Actual', 'Total_Wind_Solar_Forecast',\n",
       "       'renew_forecast_error', 'solar_forecast_error', 'wind_forecast_error',\n",
       "       'lagged_1day_renew_forecast_error', 'lagged_2day_renew_forecast_error',\n",
       "       'lagged_3day_renew_forecast_error', 'lagged_1day_Export',\n",
       "       'lagged_2day_Export', 'lagged_3day_Export', 'lagged_1day_Generation',\n",
       "       'lagged_2day_Generation', 'lagged_3day_Generation',\n",
       "       'lagged_1day_Import', 'lagged_2day_Import', 'lagged_3day_Import',\n",
       "       'lagged_1day_HLY_CLDH_NORMAL_USW00023174',\n",
       "       'lagged_2day_HLY_CLDH_NORMAL_USW00023174',\n",
       "       'lagged_3day_HLY_CLDH_NORMAL_USW00023174',\n",
       "       'lagged_1day_HLY_CLDH_NORMAL_USW00023188',\n",
       "       'lagged_2day_HLY_CLDH_NORMAL_USW00023188',\n",
       "       'lagged_3day_HLY_CLDH_NORMAL_USW00023188',\n",
       "       'lagged_1day_HLY_HTDH_NORMAL_USW00023174',\n",
       "       'lagged_2day_HLY_HTDH_NORMAL_USW00023174',\n",
       "       'lagged_3day_HLY_HTDH_NORMAL_USW00023174',\n",
       "       'lagged_1day_HLY_HTDH_NORMAL_USW00023188',\n",
       "       'lagged_2day_HLY_HTDH_NORMAL_USW00023188',\n",
       "       'lagged_3day_HLY_HTDH_NORMAL_USW00023188',\n",
       "       'lagged_1day_HLY_TEMP_NORMAL_USW00023174',\n",
       "       'lagged_2day_HLY_TEMP_NORMAL_USW00023174',\n",
       "       'lagged_3day_HLY_TEMP_NORMAL_USW00023174',\n",
       "       'lagged_1day_HLY_TEMP_NORMAL_USW00023188',\n",
       "       'lagged_2day_HLY_TEMP_NORMAL_USW00023188',\n",
       "       'lagged_3day_HLY_TEMP_NORMAL_USW00023188',\n",
       "       'bidding_pred_HLY_CLDH_NORMAL_USW00023174',\n",
       "       'bidding_pred_HLY_CLDH_NORMAL_USW00023188',\n",
       "       'bidding_pred_HLY_HTDH_NORMAL_USW00023174',\n",
       "       'bidding_pred_HLY_HTDH_NORMAL_USW00023188',\n",
       "       'bidding_pred_HLY_TEMP_NORMAL_USW00023174',\n",
       "       'bidding_pred_HLY_TEMP_NORMAL_USW00023188', 'future_dart',\n",
       "       'future_dart_spike_15', 'future_dart_spike_30', 'future_dart_spike_45',\n",
       "       'future_dart_spike_60'],\n",
       "      dtype='object')"
      ]
     },
     "execution_count": 9,
     "metadata": {},
     "output_type": "execute_result"
    }
   ],
   "source": [
    "df.columns"
   ]
  },
  {
   "cell_type": "code",
   "execution_count": 10,
   "id": "371725fb-094a-402f-85d5-03d7367908a3",
   "metadata": {},
   "outputs": [],
   "source": [
    "endog = [# Renewable Forecasts for different areas\n",
    "         'NP15_Solar_Renewable_Forecast_Day_Ahead', 'NP15_Wind_Renewable_Forecast_Day_Ahead',\n",
    "         'SP15_Solar_Renewable_Forecast_Day_Ahead', 'SP15_Wind_Renewable_Forecast_Day_Ahead',\n",
    "         'ZP26_Solar_Renewable_Forecast_Day_Ahead',\n",
    "         # Lagged Generation Variables\n",
    "         'lagged_1day_renew_forecast_error', 'lagged_1day_Export','lagged_1day_Generation', 'lagged_1day_Import',\n",
    "         'lagged_2day_renew_forecast_error', 'lagged_2day_Export','lagged_2day_Generation', 'lagged_2day_Import',\n",
    "         'lagged_3day_renew_forecast_error', 'lagged_3day_Export','lagged_3day_Generation', 'lagged_3day_Import',\n",
    "         # Lagged weather variables\n",
    "         'bidding_pred_HLY_CLDH_NORMAL_USW00023174', 'bidding_pred_HLY_CLDH_NORMAL_USW00023188', \n",
    "         'bidding_pred_HLY_HTDH_NORMAL_USW00023174', 'bidding_pred_HLY_HTDH_NORMAL_USW00023188', \n",
    "         'bidding_pred_HLY_TEMP_NORMAL_USW00023174', 'bidding_pred_HLY_TEMP_NORMAL_USW00023188',\n",
    "         # Time-Related Variables\n",
    "         'friday', 'weekend', 'hour']"
   ]
  },
  {
   "cell_type": "code",
   "execution_count": 11,
   "id": "7785a151-81a8-4db2-9812-cc1ec87f95dd",
   "metadata": {},
   "outputs": [],
   "source": [
    "df.dropna(axis=0, subset=endog, inplace=True)"
   ]
  },
  {
   "cell_type": "code",
   "execution_count": 12,
   "id": "042cb83b-5abe-4bd8-b67f-8281df423236",
   "metadata": {},
   "outputs": [],
   "source": [
    "# na_cols = pd.DataFrame(df[endog].isna().sum(), columns=['na_count'])\n",
    "# na_cols = na_cols.loc[na_cols.iloc[:,0] >0]\n",
    "# na_cols"
   ]
  },
  {
   "cell_type": "code",
   "execution_count": 13,
   "id": "0e86eaf6-b7d9-430f-8c0d-b08ae86be022",
   "metadata": {},
   "outputs": [],
   "source": [
    "#df[df['pred_HLY_CLDH_NORMAL_USW00023174'].isna()]\n",
    "#df[df['lagged_1day_renew_forecast_error'].isna()]"
   ]
  },
  {
   "cell_type": "markdown",
   "id": "006005c7-4ea3-44a5-985b-a216cd25ee60",
   "metadata": {},
   "source": [
    "# Train - Test Split"
   ]
  },
  {
   "cell_type": "code",
   "execution_count": 14,
   "id": "8cad773f-6f3c-4885-9985-2c79c5ca6ba1",
   "metadata": {},
   "outputs": [],
   "source": [
    "\n",
    "# ' + '.join(endog)"
   ]
  },
  {
   "cell_type": "code",
   "execution_count": 15,
   "id": "c17d4ba3-c803-4662-aa20-03dbc1d0bfdd",
   "metadata": {},
   "outputs": [],
   "source": [
    "# Making target variable(s) binary for classification\n",
    "\n",
    "df['DART_spike_30_binary'] = np.where(df['DART_spike_30'] != 0, 1, 0)\n",
    "df['DART_spike_45_binary'] = np.where(df['DART_spike_45'] != 0, 1, 0)\n",
    "df['DART_spike_60_binary'] = np.where(df['DART_spike_60'] != 0, 1, 0)"
   ]
  },
  {
   "cell_type": "code",
   "execution_count": 16,
   "id": "e4364ef6-d90f-4fee-a287-ce76526037e3",
   "metadata": {},
   "outputs": [
    {
     "data": {
      "text/plain": [
       "count    25444.000000\n",
       "mean         0.013048\n",
       "std          0.113484\n",
       "min          0.000000\n",
       "25%          0.000000\n",
       "50%          0.000000\n",
       "75%          0.000000\n",
       "max          1.000000\n",
       "Name: DART_spike_45_binary, dtype: float64"
      ]
     },
     "execution_count": 16,
     "metadata": {},
     "output_type": "execute_result"
    }
   ],
   "source": [
    "df['DART_spike_45_binary'].describe()"
   ]
  },
  {
   "cell_type": "code",
   "execution_count": 17,
   "id": "65a5e82f-f1e9-48b6-a2e5-24643d9c77c9",
   "metadata": {},
   "outputs": [],
   "source": [
    "# For the models in this analysis, we will train using data from 2020-2021 and test against data in 2022\n",
    "train = df[df.index.year < 2022]\n",
    "X_train = df[df.index.year < 2022][endog]\n",
    "y_train_30 = df[df.index.year < 2022]['DART_spike_30_binary']\n",
    "y_train_45 = df[df.index.year < 2022]['DART_spike_45_binary']\n",
    "y_train_60 = df[df.index.year < 2022]['DART_spike_60_binary']\n",
    "\n",
    "test = df[df.index.year == 2022]\n",
    "X_test = df[df.index.year == 2022][endog]\n",
    "y_test_30 = df[df.index.year == 2022]['DART_spike_30_binary']\n",
    "y_test_45 = df[df.index.year == 2022]['DART_spike_45_binary']\n",
    "y_test_60 = df[df.index.year == 2022]['DART_spike_60_binary']"
   ]
  },
  {
   "cell_type": "markdown",
   "id": "11d15d4a-7f47-4051-a81e-2796924095d3",
   "metadata": {},
   "source": [
    "# Logistic Regression"
   ]
  },
  {
   "cell_type": "code",
   "execution_count": 22,
   "id": "2c553b1b-6626-4e0c-927e-8e85c5008ba4",
   "metadata": {},
   "outputs": [
    {
     "name": "stdout",
     "output_type": "stream",
     "text": [
      "Optimization terminated successfully.\n",
      "         Current function value: 0.079536\n",
      "         Iterations 11\n",
      "Optimization terminated successfully.\n",
      "         Current function value: 0.063708\n",
      "         Iterations 12\n",
      "Optimization terminated successfully.\n",
      "         Current function value: 0.053300\n",
      "         Iterations 13\n"
     ]
    }
   ],
   "source": [
    "# Regress different level DART spikes on \n",
    "formula_str_30 = \"DART_spike_30_binary ~ \" + \" + \".join(endog)\n",
    "log_reg_30 = smf.logit(formula_str_30, data=train).fit()\n",
    "\n",
    "formula_str_45 = \"DART_spike_45_binary ~ \" + \" + \".join(endog)\n",
    "log_reg_45 = smf.logit(formula_str_45, data=train).fit()\n",
    "\n",
    "formula_str_60 = \"DART_spike_60_binary ~ \" + \" + \".join(endog)\n",
    "log_reg_60 = smf.logit(formula_str_60, data=train).fit()"
   ]
  },
  {
   "cell_type": "code",
   "execution_count": 23,
   "id": "5c4385de-2314-434e-8b6e-c826653fa895",
   "metadata": {},
   "outputs": [
    {
     "name": "stdout",
     "output_type": "stream",
     "text": [
      "                            Logit Regression Results                            \n",
      "================================================================================\n",
      "Dep. Variable:     DART_spike_60_binary   No. Observations:                17295\n",
      "Model:                            Logit   Df Residuals:                    17268\n",
      "Method:                             MLE   Df Model:                           26\n",
      "Date:                  Wed, 26 Apr 2023   Pseudo R-squ.:                  0.1263\n",
      "Time:                          19:47:51   Log-Likelihood:                -921.83\n",
      "converged:                         True   LL-Null:                       -1055.1\n",
      "Covariance Type:              nonrobust   LLR p-value:                 9.881e-42\n",
      "============================================================================================================\n",
      "                                               coef    std err          z      P>|z|      [0.025      0.975]\n",
      "------------------------------------------------------------------------------------------------------------\n",
      "Intercept                                  181.8575    137.361      1.324      0.186     -87.365     451.080\n",
      "NP15_Solar_Renewable_Forecast_Day_Ahead      0.0022      0.001      3.427      0.001       0.001       0.003\n",
      "NP15_Wind_Renewable_Forecast_Day_Ahead      -0.0012      0.000     -3.985      0.000      -0.002      -0.001\n",
      "SP15_Solar_Renewable_Forecast_Day_Ahead     -0.0003      0.000     -1.911      0.056      -0.001    7.49e-06\n",
      "SP15_Wind_Renewable_Forecast_Day_Ahead       0.0002   9.77e-05      2.011      0.044    4.98e-06       0.000\n",
      "ZP26_Solar_Renewable_Forecast_Day_Ahead     -0.0008      0.001     -0.891      0.373      -0.003       0.001\n",
      "lagged_1day_renew_forecast_error            -0.0002      0.000     -1.674      0.094      -0.000    3.16e-05\n",
      "lagged_1day_Export                        7.636e-05      0.000      0.756      0.450      -0.000       0.000\n",
      "lagged_1day_Generation                       0.0001   4.38e-05      3.244      0.001    5.63e-05       0.000\n",
      "lagged_1day_Import                        1.109e-05   8.56e-05      0.130      0.897      -0.000       0.000\n",
      "lagged_2day_renew_forecast_error             0.0002      0.000      1.315      0.189   -8.01e-05       0.000\n",
      "lagged_2day_Export                       -5.055e-05      0.000     -0.393      0.695      -0.000       0.000\n",
      "lagged_2day_Generation                   -5.434e-05   6.32e-05     -0.860      0.390      -0.000    6.95e-05\n",
      "lagged_2day_Import                        9.223e-05      0.000      0.831      0.406      -0.000       0.000\n",
      "lagged_3day_renew_forecast_error             0.0002      0.000      1.939      0.052   -2.49e-06       0.000\n",
      "lagged_3day_Export                          -0.0002      0.000     -1.801      0.072      -0.000    1.75e-05\n",
      "lagged_3day_Generation                    6.157e-05   4.46e-05      1.380      0.168   -2.59e-05       0.000\n",
      "lagged_3day_Import                        7.216e-05   8.99e-05      0.803      0.422      -0.000       0.000\n",
      "bidding_pred_HLY_CLDH_NORMAL_USW00023174     1.0987      1.504      0.730      0.465      -1.850       4.047\n",
      "bidding_pred_HLY_CLDH_NORMAL_USW00023188     1.6386      1.536      1.066      0.286      -1.373       4.650\n",
      "bidding_pred_HLY_HTDH_NORMAL_USW00023174    -1.0730      1.501     -0.715      0.475      -4.016       1.870\n",
      "bidding_pred_HLY_HTDH_NORMAL_USW00023188    -1.8619      1.531     -1.216      0.224      -4.862       1.138\n",
      "bidding_pred_HLY_TEMP_NORMAL_USW00023174    -1.5779      1.501     -1.051      0.293      -4.519       1.364\n",
      "bidding_pred_HLY_TEMP_NORMAL_USW00023188    -1.3528      1.530     -0.884      0.377      -4.352       1.647\n",
      "friday                                       0.1521      0.200      0.760      0.447      -0.240       0.544\n",
      "weekend                                     -0.2608      0.193     -1.348      0.178      -0.640       0.118\n",
      "hour                                         0.0016      0.022      0.072      0.943      -0.041       0.044\n",
      "============================================================================================================\n"
     ]
    }
   ],
   "source": [
    "# print(log_reg_30.summary())\n",
    "# print(log_reg_45.summary())\n",
    "print(log_reg_60.summary())"
   ]
  },
  {
   "cell_type": "code",
   "execution_count": 24,
   "id": "513780aa-defe-4d21-aca0-6da2acac9eb7",
   "metadata": {},
   "outputs": [
    {
     "data": {
      "text/plain": [
       "0.8055491604786684"
      ]
     },
     "execution_count": 24,
     "metadata": {},
     "output_type": "execute_result"
    }
   ],
   "source": [
    "# In-Sample Performance\n",
    "y_pred_train30_lr = log_reg_30.predict(exog=train[endog])\n",
    "y_pred_train45_lr = log_reg_45.predict(exog=train[endog])\n",
    "y_pred_train60_lr = log_reg_60.predict(exog=train[endog])\n",
    "\n",
    "\n",
    "fpr, tpr, thresholds = metrics.roc_curve(y_train_60, y_pred_train60_lr, pos_label=1)\n",
    "metrics.auc(fpr, tpr)"
   ]
  },
  {
   "cell_type": "code",
   "execution_count": 25,
   "id": "6ef86762-3e33-4205-b20d-7619603db696",
   "metadata": {},
   "outputs": [],
   "source": [
    "# Out-of-Sample Performance\n",
    "y_pred_test30_lr = log_reg_30.predict(exog=test[endog])\n",
    "y_pred_test45_lr = log_reg_45.predict(exog=test[endog])\n",
    "y_pred_test60_lr = log_reg_60.predict(exog=test[endog])\n",
    "\n",
    "\n",
    "fpr30, tpr30, thresholds30 = metrics.roc_curve(y_test_30, y_pred_test30_lr, pos_label=1)\n",
    "fpr45, tpr45, thresholds45 = metrics.roc_curve(y_test_45, y_pred_test45_lr, pos_label=1)\n",
    "fpr60, tpr60, thresholds60 = metrics.roc_curve(y_test_60, y_pred_test60_lr, pos_label=1)\n",
    "\n",
    "lr_results = [(fpr30, tpr30), (fpr45, tpr45), (fpr60, tpr60)]"
   ]
  },
  {
   "cell_type": "code",
   "execution_count": 26,
   "id": "ea6b90d6-437a-4d1a-afb9-b80a9a4e6fb2",
   "metadata": {},
   "outputs": [
    {
     "data": {
      "image/png": "[encoded data removed]",
      "text/plain": [
       "<Figure size 2000x500 with 3 Axes>"
      ]
     },
     "metadata": {},
     "output_type": "display_data"
    }
   ],
   "source": [
    "fig, (ax1, ax2, ax3) = plt.subplots(1, 3, figsize=(20,5))\n",
    "\n",
    "for results, ax in zip(lr_results, (ax1, ax2, ax3)):\n",
    "    \n",
    "    fpr = results[0]\n",
    "    tpr = results[1]\n",
    "    \n",
    "    # ax.title('Logistic Regression Test Predictiond - $30 Price Spread')\n",
    "    ax.plot(fpr, tpr, 'b', label = 'AUC = %0.2f' % metrics.auc(fpr, tpr))\n",
    "    ax.legend(loc = 'lower right')\n",
    "    ax.plot([0, 1], [0, 1],'r--')\n",
    "    ax.set_xlim(0, 1)\n",
    "    ax.set_ylim(0, 1)\n",
    "    ax.set_ylabel('True Positive Rate')\n",
    "    ax.set_xlabel('False Positive Rate')\n",
    "\n",
    "ax1.set_title('Logistic Regression Test Prediction - $30 Price Spread')\n",
    "ax2.set_title('Logistic Regression Test Prediction - $45 Price Spread')\n",
    "ax3.set_title('Logistic Regression Test Prediction - $60 Price Spread')\n",
    "                       \n",
    "plt.show()"
   ]
  },
  {
   "cell_type": "markdown",
   "id": "960eacac-8fb5-4658-b131-3de7b5e6e38a",
   "metadata": {},
   "source": [
    "# Random Forest"
   ]
  },
  {
   "cell_type": "code",
   "execution_count": 27,
   "id": "b37eb721-29c4-482e-99f9-2597a35cc806",
   "metadata": {},
   "outputs": [],
   "source": [
    "# Converting data to np arrays\n",
    "train = np.array(train)\n",
    "X_train = np.array(X_train)\n",
    "y_train_30 = np.array(y_train_30)\n",
    "y_train_45 = np.array(y_train_45)\n",
    "y_train_60 = np.array(y_train_60)\n",
    "\n",
    "test = np.array(test)\n",
    "X_test = np.array(X_test)\n",
    "y_test_30 = np.array(y_test_30).reshape(-1,1)\n",
    "y_test_45 = np.array(y_test_45).reshape(-1,1)\n",
    "y_test_60 = np.array(y_test_60).reshape(-1,1)"
   ]
  },
  {
   "cell_type": "code",
   "execution_count": 28,
   "id": "d8d3a3c2-2be0-4943-bf57-31bd6cef46f9",
   "metadata": {},
   "outputs": [],
   "source": [
    "def rf_grid_search(X_train, y_train, param_distributions):\n",
    "    \"\"\"\n",
    "    Performs a grid search for a random forest classifier using cross-validation.\n",
    "\n",
    "    Parameters\n",
    "    ----------\n",
    "    X_train : array-like of shape (n_samples, n_features)\n",
    "        The training input samples.\n",
    "    y_train : array-like of shape (n_samples,)\n",
    "        The target values.\n",
    "    param_grid : dict\n",
    "        Dictionary with parameters names (str) as keys and lists of parameter\n",
    "        settings to try as values.\n",
    "\n",
    "    Returns\n",
    "    -------\n",
    "    best_params : dict\n",
    "        Dictionary with the best parameters found during the grid search.\n",
    "    \"\"\"\n",
    "\n",
    "    # Define the random forest classifier\n",
    "    rf = RandomForestClassifier()\n",
    "\n",
    "    # Perform a grid search using cross-validation\n",
    "    grid_search = RandomizedSearchCV(rf, \n",
    "                                     param_distributions=param_distributions, \n",
    "                                     cv=5, \n",
    "                                     n_iter=5,\n",
    "                                     scoring='roc_auc')\n",
    "    grid_search.fit(X_train, y_train)\n",
    "\n",
    "    # Print the best hyperparameters\n",
    "    print(\"Best hyperparameters found during grid search:\")\n",
    "    best_params = grid_search.best_params_\n",
    "    print(best_params)\n",
    "\n",
    "    return best_params"
   ]
  },
  {
   "cell_type": "code",
   "execution_count": 29,
   "id": "4e1b5479-7c8e-4cbb-907b-cef7b5c1cd12",
   "metadata": {},
   "outputs": [],
   "source": [
    "param_distributions = {\n",
    "    'n_estimators': [100, 200, 300],\n",
    "    'max_depth': [5, 10, None],\n",
    "    'min_samples_split': [5, 10, 15],\n",
    "    'min_samples_leaf': [2, 4, 8]\n",
    "}"
   ]
  },
  {
   "cell_type": "code",
   "execution_count": 30,
   "id": "8f413b2d-aec8-4efa-a7fd-8da07a3353bb",
   "metadata": {},
   "outputs": [
    {
     "name": "stdout",
     "output_type": "stream",
     "text": [
      "Best hyperparameters found during grid search:\n",
      "{'n_estimators': 100, 'min_samples_split': 5, 'min_samples_leaf': 2, 'max_depth': 5}\n"
     ]
    }
   ],
   "source": [
    "np.random.seed(42)\n",
    "rf_30_best_params = rf_grid_search(X_train=X_train, y_train=y_train_30, param_distributions=param_distributions)"
   ]
  },
  {
   "cell_type": "code",
   "execution_count": 31,
   "id": "5d55ad86-a82a-49ba-a5b3-806eb4bd2dfa",
   "metadata": {},
   "outputs": [
    {
     "name": "stdout",
     "output_type": "stream",
     "text": [
      "Best hyperparameters found during grid search:\n",
      "{'n_estimators': 100, 'min_samples_split': 5, 'min_samples_leaf': 8, 'max_depth': 5}\n"
     ]
    }
   ],
   "source": [
    "np.random.seed(42)\n",
    "rf_45_best_params = rf_grid_search(X_train=X_train, y_train=y_train_45, param_distributions=param_distributions)"
   ]
  },
  {
   "cell_type": "code",
   "execution_count": 32,
   "id": "2eba0b53-57ff-42f0-85f7-6babe6c30ac8",
   "metadata": {},
   "outputs": [
    {
     "name": "stdout",
     "output_type": "stream",
     "text": [
      "Best hyperparameters found during grid search:\n",
      "{'n_estimators': 100, 'min_samples_split': 5, 'min_samples_leaf': 8, 'max_depth': 5}\n"
     ]
    }
   ],
   "source": [
    "np.random.seed(42)\n",
    "rf_60_best_params = rf_grid_search(X_train=X_train, y_train=y_train_60, param_distributions=param_distributions)"
   ]
  },
  {
   "cell_type": "code",
   "execution_count": 33,
   "id": "06fcfae1-1aad-4341-b2c0-04b9e6acd7ac",
   "metadata": {},
   "outputs": [],
   "source": [
    "# Out-of-Sample Performance\n",
    "rf_30 = RandomForestClassifier(**rf_30_best_params).fit(X_train, y_train_30)\n",
    "rf_45 = RandomForestClassifier(**rf_45_best_params).fit(X_train, y_train_45)\n",
    "rf_60 = RandomForestClassifier(**rf_60_best_params).fit(X_train, y_train_60)\n",
    "\n",
    "# Get probability of positive result\n",
    "y_pred_test30_rf = [prob_pair[1] for prob_pair in rf_30.predict_proba(X_test)]\n",
    "y_pred_test45_rf = [prob_pair[1] for prob_pair in rf_45.predict_proba(X_test)]\n",
    "y_pred_test60_rf = [prob_pair[1] for prob_pair in rf_60.predict_proba(X_test)]\n",
    "\n",
    "fpr30, tpr30, thresholds30 = metrics.roc_curve(y_test_30, y_pred_test30_rf, pos_label=1)\n",
    "fpr45, tpr45, thresholds45 = metrics.roc_curve(y_test_45, y_pred_test45_rf, pos_label=1)\n",
    "fpr60, tpr60, thresholds60 = metrics.roc_curve(y_test_60, y_pred_test60_rf, pos_label=1)\n",
    "\n",
    "rf_results = [(fpr30, tpr30), (fpr45, tpr45), (fpr60, tpr60)]"
   ]
  },
  {
   "cell_type": "code",
   "execution_count": 34,
   "id": "d9ed35a7-117e-4b5d-ad2a-b9eaa9cf4b8d",
   "metadata": {},
   "outputs": [
    {
     "data": {
      "image/png": "[encoded data removed]",
      "text/plain": [
       "<Figure size 2000x500 with 3 Axes>"
      ]
     },
     "metadata": {},
     "output_type": "display_data"
    }
   ],
   "source": [
    "fig, (ax1, ax2, ax3) = plt.subplots(1, 3, figsize=(20,5))\n",
    "\n",
    "for results, ax in zip(rf_results, (ax1, ax2, ax3)):\n",
    "    \n",
    "    fpr = results[0]\n",
    "    tpr = results[1]\n",
    "    \n",
    "    # ax.title('Logistic Regression Test Predictiond - $30 Price Spread')\n",
    "    ax.plot(fpr, tpr, 'b', label = 'AUC = %0.2f' % metrics.auc(fpr, tpr))\n",
    "    ax.legend(loc = 'lower right')\n",
    "    ax.plot([0, 1], [0, 1],'r--')\n",
    "    ax.set_xlim(0, 1)\n",
    "    ax.set_ylim(0, 1)\n",
    "    ax.set_ylabel('True Positive Rate')\n",
    "    ax.set_xlabel('False Positive Rate')\n",
    "\n",
    "ax1.set_title('Random Forest Test Prediction - $30 Price Spread')\n",
    "ax2.set_title('Random Forest Test Prediction - $45 Price Spread')\n",
    "ax3.set_title('Random Forest Test Prediction - $60 Price Spread')\n",
    "                       \n",
    "plt.show()"
   ]
  },
  {
   "cell_type": "markdown",
   "id": "a259cb24-856f-4b30-92e4-88988eb16c6f",
   "metadata": {},
   "source": [
    "# Gradient Boosted Trees"
   ]
  },
  {
   "cell_type": "code",
   "execution_count": 35,
   "id": "af20a730-e1cc-43d2-bc57-f805333a0e4b",
   "metadata": {},
   "outputs": [],
   "source": [
    "def xgb_grid_search(X_train, y_train, param_distributions):\n",
    "    \"\"\"\n",
    "    Performs a grid search for an xgboost classifier using cross-validation.\n",
    "\n",
    "    Parameters\n",
    "    ----------\n",
    "    X_train : array-like of shape (n_samples, n_features)\n",
    "        The training input samples.\n",
    "    y_train : array-like of shape (n_samples,)\n",
    "        The target values.\n",
    "    param_grid : dict\n",
    "        Dictionary with parameters names (str) as keys and lists of parameter\n",
    "        settings to try as values.\n",
    "\n",
    "    Returns\n",
    "    -------\n",
    "    best_params : dict\n",
    "        Dictionary with the best parameters found during the grid search.\n",
    "    \"\"\"\n",
    "\n",
    "    # Define the random forest classifier\n",
    "    clf = XGBClassifier(verbosity=0)\n",
    "\n",
    "    # Perform a grid search using cross-validation\n",
    "    grid_search = RandomizedSearchCV(clf, \n",
    "                                     param_distributions=param_distributions, \n",
    "                                     cv=5, \n",
    "                                     n_iter=5,\n",
    "                                     scoring='roc_auc')\n",
    "    grid_search.fit(X_train, y_train)\n",
    "\n",
    "    # Print the best hyperparameters\n",
    "    print(\"Best hyperparameters found during grid search:\")\n",
    "    best_params = grid_search.best_params_\n",
    "    print(best_params)\n",
    "\n",
    "    return best_params"
   ]
  },
  {
   "cell_type": "code",
   "execution_count": 36,
   "id": "6b934b35-16d8-47f7-8732-5ccf4c61b9b7",
   "metadata": {},
   "outputs": [],
   "source": [
    "param_grid = {\n",
    "    'max_depth': range (2, 10, 1),\n",
    "    'n_estimators': range(60, 220, 40),\n",
    "    'learning_rate': [0.1, 0.01, 0.05]\n",
    "}"
   ]
  },
  {
   "cell_type": "code",
   "execution_count": 37,
   "id": "9c0b6baa-357f-4527-b572-e4d321af44d7",
   "metadata": {},
   "outputs": [
    {
     "name": "stdout",
     "output_type": "stream",
     "text": [
      "Best hyperparameters found during grid search:\n",
      "{'n_estimators': 100, 'min_samples_split': 10, 'min_samples_leaf': 2, 'max_depth': 10}\n"
     ]
    }
   ],
   "source": [
    "np.random.seed(42)\n",
    "xgb_30_best_params = xgb_grid_search(X_train=X_train, y_train=y_train_30, param_distributions=param_distributions)"
   ]
  },
  {
   "cell_type": "code",
   "execution_count": 38,
   "id": "a51796b5-7f76-40d8-89c8-ffd1b590a132",
   "metadata": {},
   "outputs": [
    {
     "name": "stdout",
     "output_type": "stream",
     "text": [
      "Best hyperparameters found during grid search:\n",
      "{'n_estimators': 100, 'min_samples_split': 5, 'min_samples_leaf': 2, 'max_depth': 5}\n"
     ]
    }
   ],
   "source": [
    "np.random.seed(42)\n",
    "xgb_45_best_params = xgb_grid_search(X_train=X_train, y_train=y_train_45, param_distributions=param_distributions)"
   ]
  },
  {
   "cell_type": "code",
   "execution_count": 39,
   "id": "912aafb4-957e-45a7-bf90-a01c7842e8b7",
   "metadata": {},
   "outputs": [
    {
     "name": "stdout",
     "output_type": "stream",
     "text": [
      "Best hyperparameters found during grid search:\n",
      "{'n_estimators': 100, 'min_samples_split': 5, 'min_samples_leaf': 2, 'max_depth': 5}\n"
     ]
    }
   ],
   "source": [
    "np.random.seed(42)\n",
    "xgb_60_best_params = xgb_grid_search(X_train=X_train, y_train=y_train_60, param_distributions=param_distributions)"
   ]
  },
  {
   "cell_type": "code",
   "execution_count": null,
   "id": "f085e517-9cc9-405c-97c7-460e76c0630c",
   "metadata": {},
   "outputs": [],
   "source": []
  },
  {
   "cell_type": "code",
   "execution_count": 41,
   "id": "b9d102a5-271f-49b6-8ef9-b57264478aba",
   "metadata": {},
   "outputs": [],
   "source": [
    "clf_30 = XGBClassifier(**xgb_30_best_params, verbosity=0)\n",
    "clf_30.fit(X_train, y_train_30)\n",
    "y_pred_test30_xgb = [prob_pair[1] for prob_pair in clf_30.predict_proba(X_test)]\n",
    "                     \n",
    "clf_45 = XGBClassifier(**xgb_45_best_params, verbosity=0)\n",
    "clf_45.fit(X_train, y_train_45)\n",
    "y_pred_test45_xgb = [prob_pair[1] for prob_pair in clf_45.predict_proba(X_test)]     \n",
    "\n",
    "clf_60 = XGBClassifier(**xgb_60_best_params, verbosity=0)\n",
    "clf_60.fit(X_train, y_train_60)\n",
    "y_pred_test60_xgb = [prob_pair[1] for prob_pair in clf_60.predict_proba(X_test)]           "
   ]
  },
  {
   "cell_type": "code",
   "execution_count": 42,
   "id": "12e349ca-39d2-406a-8012-40134d3d793a",
   "metadata": {},
   "outputs": [],
   "source": [
    "fpr30, tpr30, thresholds30 = metrics.roc_curve(y_test_30, y_pred_test30_xgb, pos_label=1)\n",
    "fpr45, tpr45, thresholds45 = metrics.roc_curve(y_test_45, y_pred_test45_xgb, pos_label=1)\n",
    "fpr60, tpr60, thresholds60 = metrics.roc_curve(y_test_60, y_pred_test60_xgb, pos_label=1)\n",
    "\n",
    "xgb_results = [(fpr30, tpr30), (fpr45, tpr45), (fpr60, tpr60)]"
   ]
  },
  {
   "cell_type": "code",
   "execution_count": 43,
   "id": "02c66bcd-2b6d-4be7-b9d9-b1dbc40133d5",
   "metadata": {},
   "outputs": [
    {
     "data": {
      "image/png": "[encoded data removed]",
      "text/plain": [
       "<Figure size 2000x500 with 3 Axes>"
      ]
     },
     "metadata": {},
     "output_type": "display_data"
    }
   ],
   "source": [
    "fig, (ax1, ax2, ax3) = plt.subplots(1, 3, figsize=(20,5))\n",
    "\n",
    "for results, ax in zip(xgb_results, (ax1, ax2, ax3)):\n",
    "    \n",
    "    fpr = results[0]\n",
    "    tpr = results[1]\n",
    "    \n",
    "    # ax.title('Logistic Regression Test Predictiond - $30 Price Spread')\n",
    "    ax.plot(fpr, tpr, 'b', label = 'AUC = %0.2f' % metrics.auc(fpr, tpr))\n",
    "    ax.legend(loc = 'lower right')\n",
    "    ax.plot([0, 1], [0, 1],'r--')\n",
    "    ax.set_xlim(0, 1)\n",
    "    ax.set_ylim(0, 1)\n",
    "    ax.set_ylabel('True Positive Rate')\n",
    "    ax.set_xlabel('False Positive Rate')\n",
    "\n",
    "ax1.set_title('XGBoost Test Prediction - $30 Price Spread')\n",
    "ax2.set_title('XGBoost Forest Test Prediction - $45 Price Spread')\n",
    "ax3.set_title('XGBoost Forest Test Prediction - $60 Price Spread')\n",
    "                       \n",
    "plt.show()"
   ]
  },
  {
   "cell_type": "markdown",
   "id": "2b49fe0c-b9ca-40d3-adfc-09b91f21c356",
   "metadata": {},
   "source": [
    "# LSTM Model"
   ]
  },
  {
   "cell_type": "code",
   "execution_count": 13,
   "id": "f9a0d4ba-8e96-4a7f-80a3-3d8142c086d2",
   "metadata": {},
   "outputs": [],
   "source": [
    "import tensorflow as tf\n",
    "from tensorflow.keras.models import Sequential\n",
    "from tensorflow.keras.layers import Dense\n",
    "from tensorflow.keras.layers import LSTM\n",
    "from tensorflow.keras.layers import Embedding\n",
    "from tensorflow.keras.preprocessing import sequence\n",
    "# fix random seed for reproducibility\n",
    "tf.random.set_seed(42)"
   ]
  },
  {
   "cell_type": "code",
   "execution_count": 14,
   "id": "4b2d2b17-6701-4305-aa48-8e1fe40f985a",
   "metadata": {},
   "outputs": [],
   "source": [
    "features = ['NP15_Solar_Renewable_Forecast_Day_Ahead',\n",
    "       'NP15_Wind_Renewable_Forecast_Day_Ahead',\n",
    "       'SP15_Solar_Renewable_Forecast_Day_Ahead',\n",
    "       'SP15_Wind_Renewable_Forecast_Day_Ahead',\n",
    "       'ZP26_Solar_Renewable_Forecast_Day_Ahead', 'lagged_1day_renew_forecast_error', 'lagged_1day_Export',\n",
    "       'lagged_1day_Generation', 'lagged_1day_Import','pred_HLY_CLDH_NORMAL_USW00023174', 'pred_HLY_CLDH_NORMAL_USW00023188',\n",
    "       'pred_HLY_HTDH_NORMAL_USW00023174', 'pred_HLY_HTDH_NORMAL_USW00023188',\n",
    "       'pred_HLY_TEMP_NORMAL_USW00023174', 'pred_HLY_TEMP_NORMAL_USW00023188', 'DART_spike_30_binary']"
   ]
  },
  {
   "cell_type": "code",
   "execution_count": 15,
   "id": "7a8b0cd1-b4f7-462e-9e9a-16cda2926c64",
   "metadata": {},
   "outputs": [],
   "source": [
    "lstm_df = df[features]"
   ]
  },
  {
   "cell_type": "code",
   "execution_count": 16,
   "id": "add3775b-09e1-4860-9f4f-72fa5dbb8e53",
   "metadata": {},
   "outputs": [
    {
     "name": "stderr",
     "output_type": "stream",
     "text": [
      "/var/folders/kv/2tcvz5513rq2g_w2s4_hlnz00000gn/T/ipykernel_15744/614894349.py:1: SettingWithCopyWarning: \n",
      "A value is trying to be set on a copy of a slice from a DataFrame.\n",
      "Try using .loc[row_indexer,col_indexer] = value instead\n",
      "\n",
      "See the caveats in the documentation: https://pandas.pydata.org/pandas-docs/stable/user_guide/indexing.html#returning-a-view-versus-a-copy\n",
      "  lstm_df['grouper'] = 0\n",
      "/var/folders/kv/2tcvz5513rq2g_w2s4_hlnz00000gn/T/ipykernel_15744/614894349.py:2: SettingWithCopyWarning: \n",
      "A value is trying to be set on a copy of a slice from a DataFrame.\n",
      "Try using .loc[row_indexer,col_indexer] = value instead\n",
      "\n",
      "See the caveats in the documentation: https://pandas.pydata.org/pandas-docs/stable/user_guide/indexing.html#returning-a-view-versus-a-copy\n",
      "  lstm_df['index_num'] = [i for i in range(len(lstm_df))]\n"
     ]
    }
   ],
   "source": [
    "lstm_df['grouper'] = 0\n",
    "lstm_df['index_num'] = [i for i in range(len(lstm_df))]"
   ]
  },
  {
   "cell_type": "code",
   "execution_count": 17,
   "id": "5a8c5cce-710c-41fb-8427-b903b0a810d5",
   "metadata": {},
   "outputs": [],
   "source": [
    "def extract_rolling_group(group):\n",
    "    return group[features].values"
   ]
  },
  {
   "cell_type": "code",
   "execution_count": 24,
   "id": "8ea63c15-da32-4348-b545-cb7e6c7f6f00",
   "metadata": {
    "tags": []
   },
   "outputs": [],
   "source": [
    "pd.set_option('mode.chained_assignment', None)\n",
    "\n",
    "start_index = 0\n",
    "end_index = 23\n",
    "\n",
    "# Create a dataframe to store rolling groups of data\n",
    "rolling_lstm_df = pd.DataFrame(columns=features)\n",
    "# Add a variable to track which rolling group a row belongs to\n",
    "rolling_lstm_df['frame_number'] = pd.Series(dtype=int)\n",
    "\n",
    "# For length of dataframe, capture rolling groups of 24 elements\n",
    "while end_index <= len(lstm_df) - 1:\n",
    "    \n",
    "    # subset dataframe to observations where index position is between start and end index\n",
    "    df_grouped_frame = lstm_df[(lstm_df['index_num'] >= start_index) & (lstm_df['index_num'] <= end_index)]\n",
    "    # Add variable to indicate which frame number this rolling group is\n",
    "    df_grouped_frame['frame_number'] = start_index\n",
    "    \n",
    "    rolling_lstm_df = pd.concat([rolling_lstm_df, df_grouped_frame])\n",
    "    \n",
    "    start_index += 1\n",
    "    end_index   += 1\n"
   ]
  },
  {
   "cell_type": "code",
   "execution_count": 25,
   "id": "6ea7d3be-b10f-44df-a2ce-315cea3d03dd",
   "metadata": {},
   "outputs": [],
   "source": [
    "rolling_lstm_df.index.rename('Timestamp', inplace=True)\n",
    "rolling_lstm_df.reset_index(inplace=True)\n",
    "rolling_lstm_df = rolling_lstm_df.set_index(['frame_number', 'Timestamp'])"
   ]
  },
  {
   "cell_type": "code",
   "execution_count": 26,
   "id": "785d4f07-41bc-4078-8c7e-f69186631f02",
   "metadata": {},
   "outputs": [
    {
     "data": {
      "text/html": [
       "<div>\n",
       "<style scoped>\n",
       "    .dataframe tbody tr th:only-of-type {\n",
       "        vertical-align: middle;\n",
       "    }\n",
       "\n",
       "    .dataframe tbody tr th {\n",
       "        vertical-align: top;\n",
       "    }\n",
       "\n",
       "    .dataframe thead th {\n",
       "        text-align: right;\n",
       "    }\n",
       "</style>\n",
       "<table border=\"1\" class=\"dataframe\">\n",
       "  <thead>\n",
       "    <tr style=\"text-align: right;\">\n",
       "      <th></th>\n",
       "      <th></th>\n",
       "      <th>NP15_Solar_Renewable_Forecast_Day_Ahead</th>\n",
       "      <th>NP15_Wind_Renewable_Forecast_Day_Ahead</th>\n",
       "      <th>SP15_Solar_Renewable_Forecast_Day_Ahead</th>\n",
       "      <th>SP15_Wind_Renewable_Forecast_Day_Ahead</th>\n",
       "      <th>ZP26_Solar_Renewable_Forecast_Day_Ahead</th>\n",
       "      <th>lagged_1day_renew_forecast_error</th>\n",
       "      <th>lagged_1day_Export</th>\n",
       "      <th>lagged_1day_Generation</th>\n",
       "      <th>lagged_1day_Import</th>\n",
       "      <th>pred_HLY_CLDH_NORMAL_USW00023174</th>\n",
       "      <th>pred_HLY_CLDH_NORMAL_USW00023188</th>\n",
       "      <th>pred_HLY_HTDH_NORMAL_USW00023174</th>\n",
       "      <th>pred_HLY_HTDH_NORMAL_USW00023188</th>\n",
       "      <th>pred_HLY_TEMP_NORMAL_USW00023174</th>\n",
       "      <th>pred_HLY_TEMP_NORMAL_USW00023188</th>\n",
       "      <th>DART_spike_30_binary</th>\n",
       "      <th>grouper</th>\n",
       "      <th>index_num</th>\n",
       "    </tr>\n",
       "    <tr>\n",
       "      <th>frame_number</th>\n",
       "      <th>Timestamp</th>\n",
       "      <th></th>\n",
       "      <th></th>\n",
       "      <th></th>\n",
       "      <th></th>\n",
       "      <th></th>\n",
       "      <th></th>\n",
       "      <th></th>\n",
       "      <th></th>\n",
       "      <th></th>\n",
       "      <th></th>\n",
       "      <th></th>\n",
       "      <th></th>\n",
       "      <th></th>\n",
       "      <th></th>\n",
       "      <th></th>\n",
       "      <th></th>\n",
       "      <th></th>\n",
       "      <th></th>\n",
       "    </tr>\n",
       "  </thead>\n",
       "  <tbody>\n",
       "    <tr>\n",
       "      <th rowspan=\"5\" valign=\"top\">0</th>\n",
       "      <th>2020-01-02 00:00:00-08:00</th>\n",
       "      <td>0.00</td>\n",
       "      <td>94.13</td>\n",
       "      <td>0.00</td>\n",
       "      <td>2290.29</td>\n",
       "      <td>0.00</td>\n",
       "      <td>-13.25480</td>\n",
       "      <td>2158.224167</td>\n",
       "      <td>12532.038333</td>\n",
       "      <td>10490.190833</td>\n",
       "      <td>0.0</td>\n",
       "      <td>0.0</td>\n",
       "      <td>12.9</td>\n",
       "      <td>12.9</td>\n",
       "      <td>52.2</td>\n",
       "      <td>52.1</td>\n",
       "      <td>0</td>\n",
       "      <td>0.0</td>\n",
       "      <td>0.0</td>\n",
       "    </tr>\n",
       "    <tr>\n",
       "      <th>2020-01-02 01:00:00-08:00</th>\n",
       "      <td>0.00</td>\n",
       "      <td>85.44</td>\n",
       "      <td>0.00</td>\n",
       "      <td>2179.96</td>\n",
       "      <td>0.00</td>\n",
       "      <td>153.85222</td>\n",
       "      <td>1717.044167</td>\n",
       "      <td>12443.653333</td>\n",
       "      <td>9767.161667</td>\n",
       "      <td>0.1</td>\n",
       "      <td>0.0</td>\n",
       "      <td>9.8</td>\n",
       "      <td>9.2</td>\n",
       "      <td>55.3</td>\n",
       "      <td>55.8</td>\n",
       "      <td>0</td>\n",
       "      <td>0.0</td>\n",
       "      <td>1.0</td>\n",
       "    </tr>\n",
       "    <tr>\n",
       "      <th>2020-01-02 02:00:00-08:00</th>\n",
       "      <td>0.00</td>\n",
       "      <td>70.85</td>\n",
       "      <td>0.00</td>\n",
       "      <td>2035.39</td>\n",
       "      <td>0.00</td>\n",
       "      <td>140.41153</td>\n",
       "      <td>1729.317500</td>\n",
       "      <td>11655.413333</td>\n",
       "      <td>9870.050000</td>\n",
       "      <td>0.4</td>\n",
       "      <td>0.2</td>\n",
       "      <td>6.8</td>\n",
       "      <td>6.3</td>\n",
       "      <td>58.6</td>\n",
       "      <td>58.9</td>\n",
       "      <td>0</td>\n",
       "      <td>0.0</td>\n",
       "      <td>2.0</td>\n",
       "    </tr>\n",
       "    <tr>\n",
       "      <th>2020-01-02 03:00:00-08:00</th>\n",
       "      <td>0.00</td>\n",
       "      <td>64.40</td>\n",
       "      <td>0.00</td>\n",
       "      <td>1862.76</td>\n",
       "      <td>0.00</td>\n",
       "      <td>2.35234</td>\n",
       "      <td>1987.144167</td>\n",
       "      <td>11376.079167</td>\n",
       "      <td>10161.441667</td>\n",
       "      <td>1.1</td>\n",
       "      <td>0.8</td>\n",
       "      <td>4.9</td>\n",
       "      <td>4.2</td>\n",
       "      <td>61.2</td>\n",
       "      <td>61.5</td>\n",
       "      <td>0</td>\n",
       "      <td>0.0</td>\n",
       "      <td>3.0</td>\n",
       "    </tr>\n",
       "    <tr>\n",
       "      <th>2020-01-02 04:00:00-08:00</th>\n",
       "      <td>0.00</td>\n",
       "      <td>69.58</td>\n",
       "      <td>0.00</td>\n",
       "      <td>1574.54</td>\n",
       "      <td>0.00</td>\n",
       "      <td>141.43628</td>\n",
       "      <td>2031.385000</td>\n",
       "      <td>11142.511667</td>\n",
       "      <td>10144.066667</td>\n",
       "      <td>1.7</td>\n",
       "      <td>1.2</td>\n",
       "      <td>3.9</td>\n",
       "      <td>3.3</td>\n",
       "      <td>62.8</td>\n",
       "      <td>63.0</td>\n",
       "      <td>0</td>\n",
       "      <td>0.0</td>\n",
       "      <td>4.0</td>\n",
       "    </tr>\n",
       "    <tr>\n",
       "      <th>...</th>\n",
       "      <th>...</th>\n",
       "      <td>...</td>\n",
       "      <td>...</td>\n",
       "      <td>...</td>\n",
       "      <td>...</td>\n",
       "      <td>...</td>\n",
       "      <td>...</td>\n",
       "      <td>...</td>\n",
       "      <td>...</td>\n",
       "      <td>...</td>\n",
       "      <td>...</td>\n",
       "      <td>...</td>\n",
       "      <td>...</td>\n",
       "      <td>...</td>\n",
       "      <td>...</td>\n",
       "      <td>...</td>\n",
       "      <td>...</td>\n",
       "      <td>...</td>\n",
       "      <td>...</td>\n",
       "    </tr>\n",
       "    <tr>\n",
       "      <th rowspan=\"5\" valign=\"top\">25542</th>\n",
       "      <th>2022-12-08 06:00:00-08:00</th>\n",
       "      <td>0.34</td>\n",
       "      <td>106.77</td>\n",
       "      <td>133.65</td>\n",
       "      <td>259.71</td>\n",
       "      <td>0.67</td>\n",
       "      <td>24.79826</td>\n",
       "      <td>1179.219167</td>\n",
       "      <td>20945.170833</td>\n",
       "      <td>6236.068333</td>\n",
       "      <td>1.6</td>\n",
       "      <td>1.5</td>\n",
       "      <td>2.7</td>\n",
       "      <td>2.1</td>\n",
       "      <td>63.9</td>\n",
       "      <td>64.4</td>\n",
       "      <td>0</td>\n",
       "      <td>0.0</td>\n",
       "      <td>25561.0</td>\n",
       "    </tr>\n",
       "    <tr>\n",
       "      <th>2022-12-08 07:00:00-08:00</th>\n",
       "      <td>166.52</td>\n",
       "      <td>115.55</td>\n",
       "      <td>2632.98</td>\n",
       "      <td>201.06</td>\n",
       "      <td>233.50</td>\n",
       "      <td>-262.51090</td>\n",
       "      <td>1238.130833</td>\n",
       "      <td>22474.339167</td>\n",
       "      <td>6325.737500</td>\n",
       "      <td>1.1</td>\n",
       "      <td>1.2</td>\n",
       "      <td>3.2</td>\n",
       "      <td>2.5</td>\n",
       "      <td>62.9</td>\n",
       "      <td>63.7</td>\n",
       "      <td>0</td>\n",
       "      <td>0.0</td>\n",
       "      <td>25562.0</td>\n",
       "    </tr>\n",
       "    <tr>\n",
       "      <th>2022-12-08 08:00:00-08:00</th>\n",
       "      <td>658.56</td>\n",
       "      <td>117.79</td>\n",
       "      <td>5871.96</td>\n",
       "      <td>178.06</td>\n",
       "      <td>841.10</td>\n",
       "      <td>-817.06926</td>\n",
       "      <td>1574.469167</td>\n",
       "      <td>22242.023333</td>\n",
       "      <td>5956.885833</td>\n",
       "      <td>0.7</td>\n",
       "      <td>0.9</td>\n",
       "      <td>4.2</td>\n",
       "      <td>3.1</td>\n",
       "      <td>61.5</td>\n",
       "      <td>62.8</td>\n",
       "      <td>0</td>\n",
       "      <td>0.0</td>\n",
       "      <td>25563.0</td>\n",
       "    </tr>\n",
       "    <tr>\n",
       "      <th>2022-12-08 09:00:00-08:00</th>\n",
       "      <td>784.47</td>\n",
       "      <td>125.49</td>\n",
       "      <td>6807.71</td>\n",
       "      <td>170.03</td>\n",
       "      <td>1125.59</td>\n",
       "      <td>-740.48476</td>\n",
       "      <td>1818.678333</td>\n",
       "      <td>21117.174167</td>\n",
       "      <td>5324.725833</td>\n",
       "      <td>0.3</td>\n",
       "      <td>0.3</td>\n",
       "      <td>5.8</td>\n",
       "      <td>4.4</td>\n",
       "      <td>59.4</td>\n",
       "      <td>60.9</td>\n",
       "      <td>0</td>\n",
       "      <td>0.0</td>\n",
       "      <td>25564.0</td>\n",
       "    </tr>\n",
       "    <tr>\n",
       "      <th>2022-12-08 10:00:00-08:00</th>\n",
       "      <td>707.11</td>\n",
       "      <td>128.38</td>\n",
       "      <td>6908.92</td>\n",
       "      <td>169.54</td>\n",
       "      <td>1064.29</td>\n",
       "      <td>-163.19618</td>\n",
       "      <td>2175.800833</td>\n",
       "      <td>20105.275833</td>\n",
       "      <td>5180.385833</td>\n",
       "      <td>0.2</td>\n",
       "      <td>0.2</td>\n",
       "      <td>6.5</td>\n",
       "      <td>5.2</td>\n",
       "      <td>58.7</td>\n",
       "      <td>59.9</td>\n",
       "      <td>0</td>\n",
       "      <td>0.0</td>\n",
       "      <td>25565.0</td>\n",
       "    </tr>\n",
       "  </tbody>\n",
       "</table>\n",
       "<p>613032 rows × 18 columns</p>\n",
       "</div>"
      ],
      "text/plain": [
       "                                        NP15_Solar_Renewable_Forecast_Day_Ahead  \\\n",
       "frame_number Timestamp                                                            \n",
       "0            2020-01-02 00:00:00-08:00                                     0.00   \n",
       "             2020-01-02 01:00:00-08:00                                     0.00   \n",
       "             2020-01-02 02:00:00-08:00                                     0.00   \n",
       "             2020-01-02 03:00:00-08:00                                     0.00   \n",
       "             2020-01-02 04:00:00-08:00                                     0.00   \n",
       "...                                                                         ...   \n",
       "25542        2022-12-08 06:00:00-08:00                                     0.34   \n",
       "             2022-12-08 07:00:00-08:00                                   166.52   \n",
       "             2022-12-08 08:00:00-08:00                                   658.56   \n",
       "             2022-12-08 09:00:00-08:00                                   784.47   \n",
       "             2022-12-08 10:00:00-08:00                                   707.11   \n",
       "\n",
       "                                        NP15_Wind_Renewable_Forecast_Day_Ahead  \\\n",
       "frame_number Timestamp                                                           \n",
       "0            2020-01-02 00:00:00-08:00                                   94.13   \n",
       "             2020-01-02 01:00:00-08:00                                   85.44   \n",
       "             2020-01-02 02:00:00-08:00                                   70.85   \n",
       "             2020-01-02 03:00:00-08:00                                   64.40   \n",
       "             2020-01-02 04:00:00-08:00                                   69.58   \n",
       "...                                                                        ...   \n",
       "25542        2022-12-08 06:00:00-08:00                                  106.77   \n",
       "             2022-12-08 07:00:00-08:00                                  115.55   \n",
       "             2022-12-08 08:00:00-08:00                                  117.79   \n",
       "             2022-12-08 09:00:00-08:00                                  125.49   \n",
       "             2022-12-08 10:00:00-08:00                                  128.38   \n",
       "\n",
       "                                        SP15_Solar_Renewable_Forecast_Day_Ahead  \\\n",
       "frame_number Timestamp                                                            \n",
       "0            2020-01-02 00:00:00-08:00                                     0.00   \n",
       "             2020-01-02 01:00:00-08:00                                     0.00   \n",
       "             2020-01-02 02:00:00-08:00                                     0.00   \n",
       "             2020-01-02 03:00:00-08:00                                     0.00   \n",
       "             2020-01-02 04:00:00-08:00                                     0.00   \n",
       "...                                                                         ...   \n",
       "25542        2022-12-08 06:00:00-08:00                                   133.65   \n",
       "             2022-12-08 07:00:00-08:00                                  2632.98   \n",
       "             2022-12-08 08:00:00-08:00                                  5871.96   \n",
       "             2022-12-08 09:00:00-08:00                                  6807.71   \n",
       "             2022-12-08 10:00:00-08:00                                  6908.92   \n",
       "\n",
       "                                        SP15_Wind_Renewable_Forecast_Day_Ahead  \\\n",
       "frame_number Timestamp                                                           \n",
       "0            2020-01-02 00:00:00-08:00                                 2290.29   \n",
       "             2020-01-02 01:00:00-08:00                                 2179.96   \n",
       "             2020-01-02 02:00:00-08:00                                 2035.39   \n",
       "             2020-01-02 03:00:00-08:00                                 1862.76   \n",
       "             2020-01-02 04:00:00-08:00                                 1574.54   \n",
       "...                                                                        ...   \n",
       "25542        2022-12-08 06:00:00-08:00                                  259.71   \n",
       "             2022-12-08 07:00:00-08:00                                  201.06   \n",
       "             2022-12-08 08:00:00-08:00                                  178.06   \n",
       "             2022-12-08 09:00:00-08:00                                  170.03   \n",
       "             2022-12-08 10:00:00-08:00                                  169.54   \n",
       "\n",
       "                                        ZP26_Solar_Renewable_Forecast_Day_Ahead  \\\n",
       "frame_number Timestamp                                                            \n",
       "0            2020-01-02 00:00:00-08:00                                     0.00   \n",
       "             2020-01-02 01:00:00-08:00                                     0.00   \n",
       "             2020-01-02 02:00:00-08:00                                     0.00   \n",
       "             2020-01-02 03:00:00-08:00                                     0.00   \n",
       "             2020-01-02 04:00:00-08:00                                     0.00   \n",
       "...                                                                         ...   \n",
       "25542        2022-12-08 06:00:00-08:00                                     0.67   \n",
       "             2022-12-08 07:00:00-08:00                                   233.50   \n",
       "             2022-12-08 08:00:00-08:00                                   841.10   \n",
       "             2022-12-08 09:00:00-08:00                                  1125.59   \n",
       "             2022-12-08 10:00:00-08:00                                  1064.29   \n",
       "\n",
       "                                        lagged_1day_renew_forecast_error  \\\n",
       "frame_number Timestamp                                                     \n",
       "0            2020-01-02 00:00:00-08:00                         -13.25480   \n",
       "             2020-01-02 01:00:00-08:00                         153.85222   \n",
       "             2020-01-02 02:00:00-08:00                         140.41153   \n",
       "             2020-01-02 03:00:00-08:00                           2.35234   \n",
       "             2020-01-02 04:00:00-08:00                         141.43628   \n",
       "...                                                                  ...   \n",
       "25542        2022-12-08 06:00:00-08:00                          24.79826   \n",
       "             2022-12-08 07:00:00-08:00                        -262.51090   \n",
       "             2022-12-08 08:00:00-08:00                        -817.06926   \n",
       "             2022-12-08 09:00:00-08:00                        -740.48476   \n",
       "             2022-12-08 10:00:00-08:00                        -163.19618   \n",
       "\n",
       "                                        lagged_1day_Export  \\\n",
       "frame_number Timestamp                                       \n",
       "0            2020-01-02 00:00:00-08:00         2158.224167   \n",
       "             2020-01-02 01:00:00-08:00         1717.044167   \n",
       "             2020-01-02 02:00:00-08:00         1729.317500   \n",
       "             2020-01-02 03:00:00-08:00         1987.144167   \n",
       "             2020-01-02 04:00:00-08:00         2031.385000   \n",
       "...                                                    ...   \n",
       "25542        2022-12-08 06:00:00-08:00         1179.219167   \n",
       "             2022-12-08 07:00:00-08:00         1238.130833   \n",
       "             2022-12-08 08:00:00-08:00         1574.469167   \n",
       "             2022-12-08 09:00:00-08:00         1818.678333   \n",
       "             2022-12-08 10:00:00-08:00         2175.800833   \n",
       "\n",
       "                                        lagged_1day_Generation  \\\n",
       "frame_number Timestamp                                           \n",
       "0            2020-01-02 00:00:00-08:00            12532.038333   \n",
       "             2020-01-02 01:00:00-08:00            12443.653333   \n",
       "             2020-01-02 02:00:00-08:00            11655.413333   \n",
       "             2020-01-02 03:00:00-08:00            11376.079167   \n",
       "             2020-01-02 04:00:00-08:00            11142.511667   \n",
       "...                                                        ...   \n",
       "25542        2022-12-08 06:00:00-08:00            20945.170833   \n",
       "             2022-12-08 07:00:00-08:00            22474.339167   \n",
       "             2022-12-08 08:00:00-08:00            22242.023333   \n",
       "             2022-12-08 09:00:00-08:00            21117.174167   \n",
       "             2022-12-08 10:00:00-08:00            20105.275833   \n",
       "\n",
       "                                        lagged_1day_Import  \\\n",
       "frame_number Timestamp                                       \n",
       "0            2020-01-02 00:00:00-08:00        10490.190833   \n",
       "             2020-01-02 01:00:00-08:00         9767.161667   \n",
       "             2020-01-02 02:00:00-08:00         9870.050000   \n",
       "             2020-01-02 03:00:00-08:00        10161.441667   \n",
       "             2020-01-02 04:00:00-08:00        10144.066667   \n",
       "...                                                    ...   \n",
       "25542        2022-12-08 06:00:00-08:00         6236.068333   \n",
       "             2022-12-08 07:00:00-08:00         6325.737500   \n",
       "             2022-12-08 08:00:00-08:00         5956.885833   \n",
       "             2022-12-08 09:00:00-08:00         5324.725833   \n",
       "             2022-12-08 10:00:00-08:00         5180.385833   \n",
       "\n",
       "                                        pred_HLY_CLDH_NORMAL_USW00023174  \\\n",
       "frame_number Timestamp                                                     \n",
       "0            2020-01-02 00:00:00-08:00                               0.0   \n",
       "             2020-01-02 01:00:00-08:00                               0.1   \n",
       "             2020-01-02 02:00:00-08:00                               0.4   \n",
       "             2020-01-02 03:00:00-08:00                               1.1   \n",
       "             2020-01-02 04:00:00-08:00                               1.7   \n",
       "...                                                                  ...   \n",
       "25542        2022-12-08 06:00:00-08:00                               1.6   \n",
       "             2022-12-08 07:00:00-08:00                               1.1   \n",
       "             2022-12-08 08:00:00-08:00                               0.7   \n",
       "             2022-12-08 09:00:00-08:00                               0.3   \n",
       "             2022-12-08 10:00:00-08:00                               0.2   \n",
       "\n",
       "                                        pred_HLY_CLDH_NORMAL_USW00023188  \\\n",
       "frame_number Timestamp                                                     \n",
       "0            2020-01-02 00:00:00-08:00                               0.0   \n",
       "             2020-01-02 01:00:00-08:00                               0.0   \n",
       "             2020-01-02 02:00:00-08:00                               0.2   \n",
       "             2020-01-02 03:00:00-08:00                               0.8   \n",
       "             2020-01-02 04:00:00-08:00                               1.2   \n",
       "...                                                                  ...   \n",
       "25542        2022-12-08 06:00:00-08:00                               1.5   \n",
       "             2022-12-08 07:00:00-08:00                               1.2   \n",
       "             2022-12-08 08:00:00-08:00                               0.9   \n",
       "             2022-12-08 09:00:00-08:00                               0.3   \n",
       "             2022-12-08 10:00:00-08:00                               0.2   \n",
       "\n",
       "                                        pred_HLY_HTDH_NORMAL_USW00023174  \\\n",
       "frame_number Timestamp                                                     \n",
       "0            2020-01-02 00:00:00-08:00                              12.9   \n",
       "             2020-01-02 01:00:00-08:00                               9.8   \n",
       "             2020-01-02 02:00:00-08:00                               6.8   \n",
       "             2020-01-02 03:00:00-08:00                               4.9   \n",
       "             2020-01-02 04:00:00-08:00                               3.9   \n",
       "...                                                                  ...   \n",
       "25542        2022-12-08 06:00:00-08:00                               2.7   \n",
       "             2022-12-08 07:00:00-08:00                               3.2   \n",
       "             2022-12-08 08:00:00-08:00                               4.2   \n",
       "             2022-12-08 09:00:00-08:00                               5.8   \n",
       "             2022-12-08 10:00:00-08:00                               6.5   \n",
       "\n",
       "                                        pred_HLY_HTDH_NORMAL_USW00023188  \\\n",
       "frame_number Timestamp                                                     \n",
       "0            2020-01-02 00:00:00-08:00                              12.9   \n",
       "             2020-01-02 01:00:00-08:00                               9.2   \n",
       "             2020-01-02 02:00:00-08:00                               6.3   \n",
       "             2020-01-02 03:00:00-08:00                               4.2   \n",
       "             2020-01-02 04:00:00-08:00                               3.3   \n",
       "...                                                                  ...   \n",
       "25542        2022-12-08 06:00:00-08:00                               2.1   \n",
       "             2022-12-08 07:00:00-08:00                               2.5   \n",
       "             2022-12-08 08:00:00-08:00                               3.1   \n",
       "             2022-12-08 09:00:00-08:00                               4.4   \n",
       "             2022-12-08 10:00:00-08:00                               5.2   \n",
       "\n",
       "                                        pred_HLY_TEMP_NORMAL_USW00023174  \\\n",
       "frame_number Timestamp                                                     \n",
       "0            2020-01-02 00:00:00-08:00                              52.2   \n",
       "             2020-01-02 01:00:00-08:00                              55.3   \n",
       "             2020-01-02 02:00:00-08:00                              58.6   \n",
       "             2020-01-02 03:00:00-08:00                              61.2   \n",
       "             2020-01-02 04:00:00-08:00                              62.8   \n",
       "...                                                                  ...   \n",
       "25542        2022-12-08 06:00:00-08:00                              63.9   \n",
       "             2022-12-08 07:00:00-08:00                              62.9   \n",
       "             2022-12-08 08:00:00-08:00                              61.5   \n",
       "             2022-12-08 09:00:00-08:00                              59.4   \n",
       "             2022-12-08 10:00:00-08:00                              58.7   \n",
       "\n",
       "                                        pred_HLY_TEMP_NORMAL_USW00023188  \\\n",
       "frame_number Timestamp                                                     \n",
       "0            2020-01-02 00:00:00-08:00                              52.1   \n",
       "             2020-01-02 01:00:00-08:00                              55.8   \n",
       "             2020-01-02 02:00:00-08:00                              58.9   \n",
       "             2020-01-02 03:00:00-08:00                              61.5   \n",
       "             2020-01-02 04:00:00-08:00                              63.0   \n",
       "...                                                                  ...   \n",
       "25542        2022-12-08 06:00:00-08:00                              64.4   \n",
       "             2022-12-08 07:00:00-08:00                              63.7   \n",
       "             2022-12-08 08:00:00-08:00                              62.8   \n",
       "             2022-12-08 09:00:00-08:00                              60.9   \n",
       "             2022-12-08 10:00:00-08:00                              59.9   \n",
       "\n",
       "                                       DART_spike_30_binary  grouper  \\\n",
       "frame_number Timestamp                                                 \n",
       "0            2020-01-02 00:00:00-08:00                    0      0.0   \n",
       "             2020-01-02 01:00:00-08:00                    0      0.0   \n",
       "             2020-01-02 02:00:00-08:00                    0      0.0   \n",
       "             2020-01-02 03:00:00-08:00                    0      0.0   \n",
       "             2020-01-02 04:00:00-08:00                    0      0.0   \n",
       "...                                                     ...      ...   \n",
       "25542        2022-12-08 06:00:00-08:00                    0      0.0   \n",
       "             2022-12-08 07:00:00-08:00                    0      0.0   \n",
       "             2022-12-08 08:00:00-08:00                    0      0.0   \n",
       "             2022-12-08 09:00:00-08:00                    0      0.0   \n",
       "             2022-12-08 10:00:00-08:00                    0      0.0   \n",
       "\n",
       "                                        index_num  \n",
       "frame_number Timestamp                             \n",
       "0            2020-01-02 00:00:00-08:00        0.0  \n",
       "             2020-01-02 01:00:00-08:00        1.0  \n",
       "             2020-01-02 02:00:00-08:00        2.0  \n",
       "             2020-01-02 03:00:00-08:00        3.0  \n",
       "             2020-01-02 04:00:00-08:00        4.0  \n",
       "...                                           ...  \n",
       "25542        2022-12-08 06:00:00-08:00    25561.0  \n",
       "             2022-12-08 07:00:00-08:00    25562.0  \n",
       "             2022-12-08 08:00:00-08:00    25563.0  \n",
       "             2022-12-08 09:00:00-08:00    25564.0  \n",
       "             2022-12-08 10:00:00-08:00    25565.0  \n",
       "\n",
       "[613032 rows x 18 columns]"
      ]
     },
     "execution_count": 26,
     "metadata": {},
     "output_type": "execute_result"
    }
   ],
   "source": [
    "rolling_lstm_df"
   ]
  },
  {
   "cell_type": "code",
   "execution_count": 87,
   "id": "82b66458-e988-4f40-9976-3d4a930fc290",
   "metadata": {},
   "outputs": [],
   "source": [
    "# For the models in this analysis, we will train using data from 2020-2021 and test against data in 2022\n",
    "lstm_train_validation = df[df.index.year < 2022][features]\n",
    "\n",
    "train_length = int(len(lstm_train_validation)*0.8)\n",
    "val_length = int(len(lstm_train_validation) - train_length)\n",
    "\n",
    "lstm_train_validation.sort_index(inplace=True)\n",
    "lstm_train, lstm_val = lstm_train_validation.iloc[0:train_length], lstm_train_validation.iloc[val_length:len(lstm_train_validation)]\n",
    "\n",
    "\n",
    "lstm_test = df[df.index.year == 2022][features]"
   ]
  },
  {
   "cell_type": "code",
   "execution_count": 106,
   "id": "a148e37d-4f21-434b-a89d-e28cc64ed94d",
   "metadata": {},
   "outputs": [
    {
     "ename": "TypeError",
     "evalue": "only integer scalar arrays can be converted to a scalar index",
     "output_type": "error",
     "traceback": [
      "\u001b[0;31m---------------------------------------------------------------------------\u001b[0m",
      "\u001b[0;31mTypeError\u001b[0m                                 Traceback (most recent call last)",
      "Cell \u001b[0;32mIn [106], line 7\u001b[0m\n\u001b[1;32m      3\u001b[0m scaler \u001b[38;5;241m=\u001b[39m StandardScaler()\n\u001b[1;32m      4\u001b[0m scaler\u001b[38;5;241m.\u001b[39mfit(lstm_train\u001b[38;5;241m.\u001b[39miloc[:,:\u001b[38;5;241m-\u001b[39m\u001b[38;5;241m1\u001b[39m])\n\u001b[1;32m      6\u001b[0m scaled_X \u001b[38;5;241m=\u001b[39m {\n\u001b[0;32m----> 7\u001b[0m     \u001b[38;5;124m'\u001b[39m\u001b[38;5;124mtrain\u001b[39m\u001b[38;5;124m'\u001b[39m: np\u001b[38;5;241m.\u001b[39mconcatenate(scaler\u001b[38;5;241m.\u001b[39mtransform(lstm_train\u001b[38;5;241m.\u001b[39miloc[:,:\u001b[38;5;241m-\u001b[39m\u001b[38;5;241m1\u001b[39m]), np\u001b[38;5;241m.\u001b[39marray(lstm_train\u001b[38;5;241m.\u001b[39miloc[:,\u001b[38;5;241m-\u001b[39m\u001b[38;5;241m1\u001b[39m])),\n\u001b[1;32m      8\u001b[0m     \u001b[38;5;124m'\u001b[39m\u001b[38;5;124mvalidate\u001b[39m\u001b[38;5;124m'\u001b[39m: np\u001b[38;5;241m.\u001b[39mconcatenate(scaler\u001b[38;5;241m.\u001b[39mtransform(lstm_val\u001b[38;5;241m.\u001b[39miloc[:,:\u001b[38;5;241m-\u001b[39m\u001b[38;5;241m1\u001b[39m]), np\u001b[38;5;241m.\u001b[39marray(lstm_val\u001b[38;5;241m.\u001b[39miloc[:,\u001b[38;5;241m-\u001b[39m\u001b[38;5;241m1\u001b[39m])),\n\u001b[1;32m      9\u001b[0m     \u001b[38;5;124m'\u001b[39m\u001b[38;5;124mtest\u001b[39m\u001b[38;5;124m'\u001b[39m: np\u001b[38;5;241m.\u001b[39mconcatenate(scaler\u001b[38;5;241m.\u001b[39mtransform(lstm_test\u001b[38;5;241m.\u001b[39miloc[:,:\u001b[38;5;241m-\u001b[39m\u001b[38;5;241m1\u001b[39m]), np\u001b[38;5;241m.\u001b[39marray(lstm_test\u001b[38;5;241m.\u001b[39miloc[:,\u001b[38;5;241m-\u001b[39m\u001b[38;5;241m1\u001b[39m]))\n\u001b[1;32m     10\u001b[0m }\n",
      "File \u001b[0;32m<__array_function__ internals>:180\u001b[0m, in \u001b[0;36mconcatenate\u001b[0;34m(*args, **kwargs)\u001b[0m\n",
      "\u001b[0;31mTypeError\u001b[0m: only integer scalar arrays can be converted to a scalar index"
     ]
    }
   ],
   "source": [
    "from sklearn.preprocessing import StandardScaler\n",
    "\n",
    "scaler = StandardScaler()\n",
    "scaler.fit(lstm_train.iloc[:,:-1])\n",
    "\n",
    "scaled_X = {\n",
    "    'train': np.concatenate(scaler.transform(lstm_train.iloc[:,:-1]), np.array(lstm_train.iloc[:,-1])),\n",
    "    'validate': np.concatenate(scaler.transform(lstm_val.iloc[:,:-1]), np.array(lstm_val.iloc[:,-1])),\n",
    "    'test': np.concatenate(scaler.transform(lstm_test.iloc[:,:-1]), np.array(lstm_test.iloc[:,-1]))\n",
    "}"
   ]
  },
  {
   "cell_type": "code",
   "execution_count": 96,
   "id": "69a14795-4741-4622-8ff6-fca6b1005a12",
   "metadata": {},
   "outputs": [
    {
     "data": {
      "text/plain": [
       "(13912, 15)"
      ]
     },
     "execution_count": 96,
     "metadata": {},
     "output_type": "execute_result"
    }
   ],
   "source": [
    "scaled_X['train'].shape"
   ]
  },
  {
   "cell_type": "code",
   "execution_count": 52,
   "id": "2a3c2e43-c118-4d35-a96c-cbb9b2b05e42",
   "metadata": {},
   "outputs": [
    {
     "data": {
      "text/plain": [
       "Index(['RT_LMP', 'RT_MCC', 'RT_MCE', 'RT_MCL', 'RT_MGHG', 'DA_LMP', 'DA_MCC',\n",
       "       'DA_MCE', 'DA_MCL', 'DA_MGHG', 'Export', 'Generation', 'Import',\n",
       "       'NP15_Solar_Renewable_Forecast_Actual_Generation',\n",
       "       'NP15_Wind_Renewable_Forecast_Actual_Generation',\n",
       "       'SP15_Solar_Renewable_Forecast_Actual_Generation',\n",
       "       'SP15_Wind_Renewable_Forecast_Actual_Generation',\n",
       "       'ZP26_Solar_Renewable_Forecast_Actual_Generation',\n",
       "       'NP15_Solar_Renewable_Forecast_Day_Ahead',\n",
       "       'NP15_Wind_Renewable_Forecast_Day_Ahead',\n",
       "       'SP15_Solar_Renewable_Forecast_Day_Ahead',\n",
       "       'SP15_Wind_Renewable_Forecast_Day_Ahead',\n",
       "       'ZP26_Solar_Renewable_Forecast_Day_Ahead',\n",
       "       'HLY_CLDH_NORMAL_USW00023174', 'HLY_CLDH_NORMAL_USW00023188',\n",
       "       'HLY_HTDH_NORMAL_USW00023174', 'HLY_HTDH_NORMAL_USW00023188',\n",
       "       'HLY_TEMP_NORMAL_USW00023174', 'HLY_TEMP_NORMAL_USW00023188', 'DART',\n",
       "       'DART_spike_15', 'DART_spike_30', 'DART_spike_45', 'DART_spike_60',\n",
       "       'friday', 'weekend', 'hour', 'Total_Solar_Actual',\n",
       "       'Total_Solar_Forecast', 'Total_Wind_Actual', 'Total_Wind_Forecast',\n",
       "       'Total_Wind_Solar_Actual', 'Total_Wind_Solar_Forecast',\n",
       "       'renew_forecast_error', 'solar_forecast_error', 'wind_forecast_error',\n",
       "       'lagged_1day_renew_forecast_error', 'lagged_1day_Export',\n",
       "       'lagged_1day_Generation', 'lagged_1day_Import',\n",
       "       'lagged_1day_HLY_CLDH_NORMAL_USW00023174',\n",
       "       'lagged_2day_HLY_CLDH_NORMAL_USW00023174',\n",
       "       'lagged_1day_HLY_CLDH_NORMAL_USW00023188',\n",
       "       'lagged_2day_HLY_CLDH_NORMAL_USW00023188',\n",
       "       'lagged_1day_HLY_HTDH_NORMAL_USW00023174',\n",
       "       'lagged_2day_HLY_HTDH_NORMAL_USW00023174',\n",
       "       'lagged_1day_HLY_HTDH_NORMAL_USW00023188',\n",
       "       'lagged_2day_HLY_HTDH_NORMAL_USW00023188',\n",
       "       'lagged_1day_HLY_TEMP_NORMAL_USW00023174',\n",
       "       'lagged_2day_HLY_TEMP_NORMAL_USW00023174',\n",
       "       'lagged_1day_HLY_TEMP_NORMAL_USW00023188',\n",
       "       'lagged_2day_HLY_TEMP_NORMAL_USW00023188',\n",
       "       'pred_HLY_CLDH_NORMAL_USW00023174', 'pred_HLY_CLDH_NORMAL_USW00023188',\n",
       "       'pred_HLY_HTDH_NORMAL_USW00023174', 'pred_HLY_HTDH_NORMAL_USW00023188',\n",
       "       'pred_HLY_TEMP_NORMAL_USW00023174', 'pred_HLY_TEMP_NORMAL_USW00023188',\n",
       "       'DART_spike_30_binary', 'DART_spike_45_binary', 'DART_spike_60_binary'],\n",
       "      dtype='object')"
      ]
     },
     "execution_count": 52,
     "metadata": {},
     "output_type": "execute_result"
    }
   ],
   "source": [
    "test.columns"
   ]
  },
  {
   "cell_type": "code",
   "execution_count": 49,
   "id": "6cee0ee2-800d-46ca-8834-6c3ceb92ff7d",
   "metadata": {},
   "outputs": [
    {
     "ename": "ValueError",
     "evalue": "Input 0 of layer lstm_6 is incompatible with the layer: expected ndim=3, found ndim=4. Full shape received: (None, 32, 15, 1)",
     "output_type": "error",
     "traceback": [
      "\u001b[0;31m---------------------------------------------------------------------------\u001b[0m",
      "\u001b[0;31mValueError\u001b[0m                                Traceback (most recent call last)",
      "Cell \u001b[0;32mIn [49], line 3\u001b[0m\n\u001b[1;32m      1\u001b[0m model \u001b[38;5;241m=\u001b[39m Sequential()\n\u001b[1;32m      2\u001b[0m \u001b[38;5;66;03m# model.add(LSTM(15))\u001b[39;00m\n\u001b[0;32m----> 3\u001b[0m model\u001b[38;5;241m.\u001b[39madd(LSTM(\u001b[38;5;241m100\u001b[39m, input_shape\u001b[38;5;241m=\u001b[39m(\u001b[38;5;241m32\u001b[39m,\u001b[38;5;241m15\u001b[39m,\u001b[38;5;241m1\u001b[39m)))\n\u001b[1;32m      4\u001b[0m model\u001b[38;5;241m.\u001b[39madd(Dense(\u001b[38;5;241m1\u001b[39m, activation\u001b[38;5;241m=\u001b[39m\u001b[38;5;124m'\u001b[39m\u001b[38;5;124msoftmax\u001b[39m\u001b[38;5;124m'\u001b[39m))\n\u001b[1;32m      5\u001b[0m model\u001b[38;5;241m.\u001b[39mcompile(loss\u001b[38;5;241m=\u001b[39m\u001b[38;5;124m'\u001b[39m\u001b[38;5;124mbinary_crossentropy\u001b[39m\u001b[38;5;124m'\u001b[39m, optimizer\u001b[38;5;241m=\u001b[39m\u001b[38;5;124m'\u001b[39m\u001b[38;5;124madam\u001b[39m\u001b[38;5;124m'\u001b[39m, metrics\u001b[38;5;241m=\u001b[39m[\u001b[38;5;124m'\u001b[39m\u001b[38;5;124maccuracy\u001b[39m\u001b[38;5;124m'\u001b[39m])\n",
      "File \u001b[0;32m~/opt/miniconda/lib/python3.9/site-packages/tensorflow/python/training/tracking/base.py:530\u001b[0m, in \u001b[0;36mno_automatic_dependency_tracking.<locals>._method_wrapper\u001b[0;34m(self, *args, **kwargs)\u001b[0m\n\u001b[1;32m    528\u001b[0m \u001b[38;5;28mself\u001b[39m\u001b[38;5;241m.\u001b[39m_self_setattr_tracking \u001b[38;5;241m=\u001b[39m \u001b[38;5;28;01mFalse\u001b[39;00m  \u001b[38;5;66;03m# pylint: disable=protected-access\u001b[39;00m\n\u001b[1;32m    529\u001b[0m \u001b[38;5;28;01mtry\u001b[39;00m:\n\u001b[0;32m--> 530\u001b[0m   result \u001b[38;5;241m=\u001b[39m \u001b[43mmethod\u001b[49m\u001b[43m(\u001b[49m\u001b[38;5;28;43mself\u001b[39;49m\u001b[43m,\u001b[49m\u001b[43m \u001b[49m\u001b[38;5;241;43m*\u001b[39;49m\u001b[43margs\u001b[49m\u001b[43m,\u001b[49m\u001b[43m \u001b[49m\u001b[38;5;241;43m*\u001b[39;49m\u001b[38;5;241;43m*\u001b[39;49m\u001b[43mkwargs\u001b[49m\u001b[43m)\u001b[49m\n\u001b[1;32m    531\u001b[0m \u001b[38;5;28;01mfinally\u001b[39;00m:\n\u001b[1;32m    532\u001b[0m   \u001b[38;5;28mself\u001b[39m\u001b[38;5;241m.\u001b[39m_self_setattr_tracking \u001b[38;5;241m=\u001b[39m previous_value  \u001b[38;5;66;03m# pylint: disable=protected-access\u001b[39;00m\n",
      "File \u001b[0;32m~/opt/miniconda/lib/python3.9/site-packages/keras/engine/sequential.py:202\u001b[0m, in \u001b[0;36mSequential.add\u001b[0;34m(self, layer)\u001b[0m\n\u001b[1;32m    197\u001b[0m     x \u001b[38;5;241m=\u001b[39m input_layer\u001b[38;5;241m.\u001b[39mInput(\n\u001b[1;32m    198\u001b[0m         batch_shape\u001b[38;5;241m=\u001b[39mbatch_shape, dtype\u001b[38;5;241m=\u001b[39mdtype, name\u001b[38;5;241m=\u001b[39mlayer\u001b[38;5;241m.\u001b[39mname \u001b[38;5;241m+\u001b[39m \u001b[38;5;124m'\u001b[39m\u001b[38;5;124m_input\u001b[39m\u001b[38;5;124m'\u001b[39m)\n\u001b[1;32m    199\u001b[0m     \u001b[38;5;66;03m# This will build the current layer\u001b[39;00m\n\u001b[1;32m    200\u001b[0m     \u001b[38;5;66;03m# and create the node connecting the current layer\u001b[39;00m\n\u001b[1;32m    201\u001b[0m     \u001b[38;5;66;03m# to the input layer we just created.\u001b[39;00m\n\u001b[0;32m--> 202\u001b[0m     \u001b[43mlayer\u001b[49m\u001b[43m(\u001b[49m\u001b[43mx\u001b[49m\u001b[43m)\u001b[49m\n\u001b[1;32m    203\u001b[0m     set_inputs \u001b[38;5;241m=\u001b[39m \u001b[38;5;28;01mTrue\u001b[39;00m\n\u001b[1;32m    205\u001b[0m \u001b[38;5;28;01mif\u001b[39;00m set_inputs:\n",
      "File \u001b[0;32m~/opt/miniconda/lib/python3.9/site-packages/keras/layers/recurrent.py:659\u001b[0m, in \u001b[0;36mRNN.__call__\u001b[0;34m(self, inputs, initial_state, constants, **kwargs)\u001b[0m\n\u001b[1;32m    653\u001b[0m inputs, initial_state, constants \u001b[38;5;241m=\u001b[39m _standardize_args(inputs,\n\u001b[1;32m    654\u001b[0m                                                      initial_state,\n\u001b[1;32m    655\u001b[0m                                                      constants,\n\u001b[1;32m    656\u001b[0m                                                      \u001b[38;5;28mself\u001b[39m\u001b[38;5;241m.\u001b[39m_num_constants)\n\u001b[1;32m    658\u001b[0m \u001b[38;5;28;01mif\u001b[39;00m initial_state \u001b[38;5;129;01mis\u001b[39;00m \u001b[38;5;28;01mNone\u001b[39;00m \u001b[38;5;129;01mand\u001b[39;00m constants \u001b[38;5;129;01mis\u001b[39;00m \u001b[38;5;28;01mNone\u001b[39;00m:\n\u001b[0;32m--> 659\u001b[0m   \u001b[38;5;28;01mreturn\u001b[39;00m \u001b[38;5;28;43msuper\u001b[39;49m\u001b[43m(\u001b[49m\u001b[43mRNN\u001b[49m\u001b[43m,\u001b[49m\u001b[43m \u001b[49m\u001b[38;5;28;43mself\u001b[39;49m\u001b[43m)\u001b[49m\u001b[38;5;241;43m.\u001b[39;49m\u001b[38;5;21;43m__call__\u001b[39;49m\u001b[43m(\u001b[49m\u001b[43minputs\u001b[49m\u001b[43m,\u001b[49m\u001b[43m \u001b[49m\u001b[38;5;241;43m*\u001b[39;49m\u001b[38;5;241;43m*\u001b[39;49m\u001b[43mkwargs\u001b[49m\u001b[43m)\u001b[49m\n\u001b[1;32m    661\u001b[0m \u001b[38;5;66;03m# If any of `initial_state` or `constants` are specified and are Keras\u001b[39;00m\n\u001b[1;32m    662\u001b[0m \u001b[38;5;66;03m# tensors, then add them to the inputs and temporarily modify the\u001b[39;00m\n\u001b[1;32m    663\u001b[0m \u001b[38;5;66;03m# input_spec to include them.\u001b[39;00m\n\u001b[1;32m    665\u001b[0m additional_inputs \u001b[38;5;241m=\u001b[39m []\n",
      "File \u001b[0;32m~/opt/miniconda/lib/python3.9/site-packages/keras/engine/base_layer.py:976\u001b[0m, in \u001b[0;36mLayer.__call__\u001b[0;34m(self, *args, **kwargs)\u001b[0m\n\u001b[1;32m    970\u001b[0m \u001b[38;5;66;03m# Functional Model construction mode is invoked when `Layer`s are called on\u001b[39;00m\n\u001b[1;32m    971\u001b[0m \u001b[38;5;66;03m# symbolic `KerasTensor`s, i.e.:\u001b[39;00m\n\u001b[1;32m    972\u001b[0m \u001b[38;5;66;03m# >> inputs = tf.keras.Input(10)\u001b[39;00m\n\u001b[1;32m    973\u001b[0m \u001b[38;5;66;03m# >> outputs = MyLayer()(inputs)  # Functional construction mode.\u001b[39;00m\n\u001b[1;32m    974\u001b[0m \u001b[38;5;66;03m# >> model = tf.keras.Model(inputs, outputs)\u001b[39;00m\n\u001b[1;32m    975\u001b[0m \u001b[38;5;28;01mif\u001b[39;00m _in_functional_construction_mode(\u001b[38;5;28mself\u001b[39m, inputs, args, kwargs, input_list):\n\u001b[0;32m--> 976\u001b[0m   \u001b[38;5;28;01mreturn\u001b[39;00m \u001b[38;5;28;43mself\u001b[39;49m\u001b[38;5;241;43m.\u001b[39;49m\u001b[43m_functional_construction_call\u001b[49m\u001b[43m(\u001b[49m\u001b[43minputs\u001b[49m\u001b[43m,\u001b[49m\u001b[43m \u001b[49m\u001b[43margs\u001b[49m\u001b[43m,\u001b[49m\u001b[43m \u001b[49m\u001b[43mkwargs\u001b[49m\u001b[43m,\u001b[49m\n\u001b[1;32m    977\u001b[0m \u001b[43m                                            \u001b[49m\u001b[43minput_list\u001b[49m\u001b[43m)\u001b[49m\n\u001b[1;32m    979\u001b[0m \u001b[38;5;66;03m# Maintains info about the `Layer.call` stack.\u001b[39;00m\n\u001b[1;32m    980\u001b[0m call_context \u001b[38;5;241m=\u001b[39m base_layer_utils\u001b[38;5;241m.\u001b[39mcall_context()\n",
      "File \u001b[0;32m~/opt/miniconda/lib/python3.9/site-packages/keras/engine/base_layer.py:1114\u001b[0m, in \u001b[0;36mLayer._functional_construction_call\u001b[0;34m(self, inputs, args, kwargs, input_list)\u001b[0m\n\u001b[1;32m   1109\u001b[0m     training_arg_passed_by_framework \u001b[38;5;241m=\u001b[39m \u001b[38;5;28;01mTrue\u001b[39;00m\n\u001b[1;32m   1111\u001b[0m \u001b[38;5;28;01mwith\u001b[39;00m call_context\u001b[38;5;241m.\u001b[39menter(\n\u001b[1;32m   1112\u001b[0m     layer\u001b[38;5;241m=\u001b[39m\u001b[38;5;28mself\u001b[39m, inputs\u001b[38;5;241m=\u001b[39minputs, build_graph\u001b[38;5;241m=\u001b[39m\u001b[38;5;28;01mTrue\u001b[39;00m, training\u001b[38;5;241m=\u001b[39mtraining_value):\n\u001b[1;32m   1113\u001b[0m   \u001b[38;5;66;03m# Check input assumptions set after layer building, e.g. input shape.\u001b[39;00m\n\u001b[0;32m-> 1114\u001b[0m   outputs \u001b[38;5;241m=\u001b[39m \u001b[38;5;28;43mself\u001b[39;49m\u001b[38;5;241;43m.\u001b[39;49m\u001b[43m_keras_tensor_symbolic_call\u001b[49m\u001b[43m(\u001b[49m\n\u001b[1;32m   1115\u001b[0m \u001b[43m      \u001b[49m\u001b[43minputs\u001b[49m\u001b[43m,\u001b[49m\u001b[43m \u001b[49m\u001b[43minput_masks\u001b[49m\u001b[43m,\u001b[49m\u001b[43m \u001b[49m\u001b[43margs\u001b[49m\u001b[43m,\u001b[49m\u001b[43m \u001b[49m\u001b[43mkwargs\u001b[49m\u001b[43m)\u001b[49m\n\u001b[1;32m   1117\u001b[0m   \u001b[38;5;28;01mif\u001b[39;00m outputs \u001b[38;5;129;01mis\u001b[39;00m \u001b[38;5;28;01mNone\u001b[39;00m:\n\u001b[1;32m   1118\u001b[0m     \u001b[38;5;28;01mraise\u001b[39;00m \u001b[38;5;167;01mValueError\u001b[39;00m(\u001b[38;5;124m'\u001b[39m\u001b[38;5;124mA layer\u001b[39m\u001b[38;5;130;01m\\'\u001b[39;00m\u001b[38;5;124ms `call` method should return a \u001b[39m\u001b[38;5;124m'\u001b[39m\n\u001b[1;32m   1119\u001b[0m                      \u001b[38;5;124m'\u001b[39m\u001b[38;5;124mTensor or a list of Tensors, not None \u001b[39m\u001b[38;5;124m'\u001b[39m\n\u001b[1;32m   1120\u001b[0m                      \u001b[38;5;124m'\u001b[39m\u001b[38;5;124m(layer: \u001b[39m\u001b[38;5;124m'\u001b[39m \u001b[38;5;241m+\u001b[39m \u001b[38;5;28mself\u001b[39m\u001b[38;5;241m.\u001b[39mname \u001b[38;5;241m+\u001b[39m \u001b[38;5;124m'\u001b[39m\u001b[38;5;124m).\u001b[39m\u001b[38;5;124m'\u001b[39m)\n",
      "File \u001b[0;32m~/opt/miniconda/lib/python3.9/site-packages/keras/engine/base_layer.py:848\u001b[0m, in \u001b[0;36mLayer._keras_tensor_symbolic_call\u001b[0;34m(self, inputs, input_masks, args, kwargs)\u001b[0m\n\u001b[1;32m    846\u001b[0m   \u001b[38;5;28;01mreturn\u001b[39;00m tf\u001b[38;5;241m.\u001b[39mnest\u001b[38;5;241m.\u001b[39mmap_structure(keras_tensor\u001b[38;5;241m.\u001b[39mKerasTensor, output_signature)\n\u001b[1;32m    847\u001b[0m \u001b[38;5;28;01melse\u001b[39;00m:\n\u001b[0;32m--> 848\u001b[0m   \u001b[38;5;28;01mreturn\u001b[39;00m \u001b[38;5;28;43mself\u001b[39;49m\u001b[38;5;241;43m.\u001b[39;49m\u001b[43m_infer_output_signature\u001b[49m\u001b[43m(\u001b[49m\u001b[43minputs\u001b[49m\u001b[43m,\u001b[49m\u001b[43m \u001b[49m\u001b[43margs\u001b[49m\u001b[43m,\u001b[49m\u001b[43m \u001b[49m\u001b[43mkwargs\u001b[49m\u001b[43m,\u001b[49m\u001b[43m \u001b[49m\u001b[43minput_masks\u001b[49m\u001b[43m)\u001b[49m\n",
      "File \u001b[0;32m~/opt/miniconda/lib/python3.9/site-packages/keras/engine/base_layer.py:886\u001b[0m, in \u001b[0;36mLayer._infer_output_signature\u001b[0;34m(self, inputs, args, kwargs, input_masks)\u001b[0m\n\u001b[1;32m    880\u001b[0m \u001b[38;5;28;01mwith\u001b[39;00m backend\u001b[38;5;241m.\u001b[39mname_scope(\u001b[38;5;28mself\u001b[39m\u001b[38;5;241m.\u001b[39m_name_scope()):  \u001b[38;5;66;03m# pylint: disable=not-callable\u001b[39;00m\n\u001b[1;32m    881\u001b[0m   \u001b[38;5;28;01mwith\u001b[39;00m autocast_variable\u001b[38;5;241m.\u001b[39menable_auto_cast_variables(\n\u001b[1;32m    882\u001b[0m       \u001b[38;5;28mself\u001b[39m\u001b[38;5;241m.\u001b[39m_compute_dtype_object):\n\u001b[1;32m    883\u001b[0m     \u001b[38;5;66;03m# Build layer if applicable (if the `build` method has been\u001b[39;00m\n\u001b[1;32m    884\u001b[0m     \u001b[38;5;66;03m# overridden).\u001b[39;00m\n\u001b[1;32m    885\u001b[0m     \u001b[38;5;66;03m# TODO(kaftan): do we maybe_build here, or have we already done it?\u001b[39;00m\n\u001b[0;32m--> 886\u001b[0m     \u001b[38;5;28;43mself\u001b[39;49m\u001b[38;5;241;43m.\u001b[39;49m\u001b[43m_maybe_build\u001b[49m\u001b[43m(\u001b[49m\u001b[43minputs\u001b[49m\u001b[43m)\u001b[49m\n\u001b[1;32m    887\u001b[0m     inputs \u001b[38;5;241m=\u001b[39m \u001b[38;5;28mself\u001b[39m\u001b[38;5;241m.\u001b[39m_maybe_cast_inputs(inputs)\n\u001b[1;32m    888\u001b[0m     outputs \u001b[38;5;241m=\u001b[39m call_fn(inputs, \u001b[38;5;241m*\u001b[39margs, \u001b[38;5;241m*\u001b[39m\u001b[38;5;241m*\u001b[39mkwargs)\n",
      "File \u001b[0;32m~/opt/miniconda/lib/python3.9/site-packages/keras/engine/base_layer.py:2633\u001b[0m, in \u001b[0;36mLayer._maybe_build\u001b[0;34m(self, inputs)\u001b[0m\n\u001b[1;32m   2630\u001b[0m \u001b[38;5;28;01mdef\u001b[39;00m \u001b[38;5;21m_maybe_build\u001b[39m(\u001b[38;5;28mself\u001b[39m, inputs):\n\u001b[1;32m   2631\u001b[0m   \u001b[38;5;66;03m# Check input assumptions set before layer building, e.g. input rank.\u001b[39;00m\n\u001b[1;32m   2632\u001b[0m   \u001b[38;5;28;01mif\u001b[39;00m \u001b[38;5;129;01mnot\u001b[39;00m \u001b[38;5;28mself\u001b[39m\u001b[38;5;241m.\u001b[39mbuilt:\n\u001b[0;32m-> 2633\u001b[0m     \u001b[43minput_spec\u001b[49m\u001b[38;5;241;43m.\u001b[39;49m\u001b[43massert_input_compatibility\u001b[49m\u001b[43m(\u001b[49m\n\u001b[1;32m   2634\u001b[0m \u001b[43m        \u001b[49m\u001b[38;5;28;43mself\u001b[39;49m\u001b[38;5;241;43m.\u001b[39;49m\u001b[43minput_spec\u001b[49m\u001b[43m,\u001b[49m\u001b[43m \u001b[49m\u001b[43minputs\u001b[49m\u001b[43m,\u001b[49m\u001b[43m \u001b[49m\u001b[38;5;28;43mself\u001b[39;49m\u001b[38;5;241;43m.\u001b[39;49m\u001b[43mname\u001b[49m\u001b[43m)\u001b[49m\n\u001b[1;32m   2635\u001b[0m     input_list \u001b[38;5;241m=\u001b[39m tf\u001b[38;5;241m.\u001b[39mnest\u001b[38;5;241m.\u001b[39mflatten(inputs)\n\u001b[1;32m   2636\u001b[0m     \u001b[38;5;28;01mif\u001b[39;00m input_list \u001b[38;5;129;01mand\u001b[39;00m \u001b[38;5;28mself\u001b[39m\u001b[38;5;241m.\u001b[39m_dtype_policy\u001b[38;5;241m.\u001b[39mcompute_dtype \u001b[38;5;129;01mis\u001b[39;00m \u001b[38;5;28;01mNone\u001b[39;00m:\n",
      "File \u001b[0;32m~/opt/miniconda/lib/python3.9/site-packages/keras/engine/input_spec.py:214\u001b[0m, in \u001b[0;36massert_input_compatibility\u001b[0;34m(input_spec, inputs, layer_name)\u001b[0m\n\u001b[1;32m    212\u001b[0m   ndim \u001b[38;5;241m=\u001b[39m shape\u001b[38;5;241m.\u001b[39mrank\n\u001b[1;32m    213\u001b[0m   \u001b[38;5;28;01mif\u001b[39;00m ndim \u001b[38;5;241m!=\u001b[39m spec\u001b[38;5;241m.\u001b[39mndim:\n\u001b[0;32m--> 214\u001b[0m     \u001b[38;5;28;01mraise\u001b[39;00m \u001b[38;5;167;01mValueError\u001b[39;00m(\u001b[38;5;124m'\u001b[39m\u001b[38;5;124mInput \u001b[39m\u001b[38;5;124m'\u001b[39m \u001b[38;5;241m+\u001b[39m \u001b[38;5;28mstr\u001b[39m(input_index) \u001b[38;5;241m+\u001b[39m \u001b[38;5;124m'\u001b[39m\u001b[38;5;124m of layer \u001b[39m\u001b[38;5;124m'\u001b[39m \u001b[38;5;241m+\u001b[39m\n\u001b[1;32m    215\u001b[0m                      layer_name \u001b[38;5;241m+\u001b[39m \u001b[38;5;124m'\u001b[39m\u001b[38;5;124m is incompatible with the layer: \u001b[39m\u001b[38;5;124m'\u001b[39m\n\u001b[1;32m    216\u001b[0m                      \u001b[38;5;124m'\u001b[39m\u001b[38;5;124mexpected ndim=\u001b[39m\u001b[38;5;124m'\u001b[39m \u001b[38;5;241m+\u001b[39m \u001b[38;5;28mstr\u001b[39m(spec\u001b[38;5;241m.\u001b[39mndim) \u001b[38;5;241m+\u001b[39m \u001b[38;5;124m'\u001b[39m\u001b[38;5;124m, found ndim=\u001b[39m\u001b[38;5;124m'\u001b[39m \u001b[38;5;241m+\u001b[39m\n\u001b[1;32m    217\u001b[0m                      \u001b[38;5;28mstr\u001b[39m(ndim) \u001b[38;5;241m+\u001b[39m \u001b[38;5;124m'\u001b[39m\u001b[38;5;124m. Full shape received: \u001b[39m\u001b[38;5;124m'\u001b[39m \u001b[38;5;241m+\u001b[39m\n\u001b[1;32m    218\u001b[0m                      \u001b[38;5;28mstr\u001b[39m(\u001b[38;5;28mtuple\u001b[39m(shape)))\n\u001b[1;32m    219\u001b[0m \u001b[38;5;28;01mif\u001b[39;00m spec\u001b[38;5;241m.\u001b[39mmax_ndim \u001b[38;5;129;01mis\u001b[39;00m \u001b[38;5;129;01mnot\u001b[39;00m \u001b[38;5;28;01mNone\u001b[39;00m:\n\u001b[1;32m    220\u001b[0m   ndim \u001b[38;5;241m=\u001b[39m x\u001b[38;5;241m.\u001b[39mshape\u001b[38;5;241m.\u001b[39mrank\n",
      "\u001b[0;31mValueError\u001b[0m: Input 0 of layer lstm_6 is incompatible with the layer: expected ndim=3, found ndim=4. Full shape received: (None, 32, 15, 1)"
     ]
    }
   ],
   "source": [
    "model = Sequential()\n",
    "# model.add(LSTM(15))\n",
    "model.add(LSTM(100, input_shape=(32,15,1)))\n",
    "model.add(Dense(1, activation='softmax'))\n",
    "model.compile(loss='binary_crossentropy', optimizer='adam', metrics=['accuracy'])\n"
   ]
  },
  {
   "cell_type": "code",
   "execution_count": 47,
   "id": "a116203a-65e8-4908-93b7-5e056d67bd0f",
   "metadata": {},
   "outputs": [
    {
     "data": {
      "text/plain": [
       "(17390, 15)"
      ]
     },
     "execution_count": 47,
     "metadata": {},
     "output_type": "execute_result"
    }
   ],
   "source": [
    "np.array(X_train).shape"
   ]
  },
  {
   "cell_type": "code",
   "execution_count": 43,
   "id": "fe4d5dce-8411-42db-8bc7-cc7f372f4eaa",
   "metadata": {},
   "outputs": [
    {
     "name": "stdout",
     "output_type": "stream",
     "text": [
      "Epoch 1/3\n"
     ]
    },
    {
     "ename": "ValueError",
     "evalue": "in user code:\n\n    File \"/Users/reidbongard/opt/miniconda/lib/python3.9/site-packages/keras/engine/training.py\", line 853, in train_function  *\n        return step_function(self, iterator)\n    File \"/Users/reidbongard/opt/miniconda/lib/python3.9/site-packages/keras/engine/training.py\", line 842, in step_function  **\n        outputs = model.distribute_strategy.run(run_step, args=(data,))\n    File \"/Users/reidbongard/opt/miniconda/lib/python3.9/site-packages/keras/engine/training.py\", line 835, in run_step  **\n        outputs = model.train_step(data)\n    File \"/Users/reidbongard/opt/miniconda/lib/python3.9/site-packages/keras/engine/training.py\", line 787, in train_step\n        y_pred = self(x, training=True)\n    File \"/Users/reidbongard/opt/miniconda/lib/python3.9/site-packages/keras/engine/base_layer.py\", line 1020, in __call__\n        input_spec.assert_input_compatibility(self.input_spec, inputs, self.name)\n    File \"/Users/reidbongard/opt/miniconda/lib/python3.9/site-packages/keras/engine/input_spec.py\", line 214, in assert_input_compatibility\n        raise ValueError('Input ' + str(input_index) + ' of layer ' +\n\n    ValueError: Input 0 of layer sequential_4 is incompatible with the layer: expected ndim=3, found ndim=2. Full shape received: (None, 15)\n",
     "output_type": "error",
     "traceback": [
      "\u001b[0;31m---------------------------------------------------------------------------\u001b[0m",
      "\u001b[0;31mValueError\u001b[0m                                Traceback (most recent call last)",
      "Cell \u001b[0;32mIn [43], line 1\u001b[0m\n\u001b[0;32m----> 1\u001b[0m model\u001b[38;5;241m.\u001b[39mfit(np\u001b[38;5;241m.\u001b[39marray(X_train), np\u001b[38;5;241m.\u001b[39marray(y_train_30), epochs\u001b[38;5;241m=\u001b[39m\u001b[38;5;241m3\u001b[39m, batch_size\u001b[38;5;241m=\u001b[39m\u001b[38;5;241m64\u001b[39m)\n",
      "File \u001b[0;32m~/opt/miniconda/lib/python3.9/site-packages/keras/engine/training.py:1184\u001b[0m, in \u001b[0;36mModel.fit\u001b[0;34m(self, x, y, batch_size, epochs, verbose, callbacks, validation_split, validation_data, shuffle, class_weight, sample_weight, initial_epoch, steps_per_epoch, validation_steps, validation_batch_size, validation_freq, max_queue_size, workers, use_multiprocessing)\u001b[0m\n\u001b[1;32m   1177\u001b[0m \u001b[38;5;28;01mwith\u001b[39;00m tf\u001b[38;5;241m.\u001b[39mprofiler\u001b[38;5;241m.\u001b[39mexperimental\u001b[38;5;241m.\u001b[39mTrace(\n\u001b[1;32m   1178\u001b[0m     \u001b[38;5;124m'\u001b[39m\u001b[38;5;124mtrain\u001b[39m\u001b[38;5;124m'\u001b[39m,\n\u001b[1;32m   1179\u001b[0m     epoch_num\u001b[38;5;241m=\u001b[39mepoch,\n\u001b[1;32m   1180\u001b[0m     step_num\u001b[38;5;241m=\u001b[39mstep,\n\u001b[1;32m   1181\u001b[0m     batch_size\u001b[38;5;241m=\u001b[39mbatch_size,\n\u001b[1;32m   1182\u001b[0m     _r\u001b[38;5;241m=\u001b[39m\u001b[38;5;241m1\u001b[39m):\n\u001b[1;32m   1183\u001b[0m   callbacks\u001b[38;5;241m.\u001b[39mon_train_batch_begin(step)\n\u001b[0;32m-> 1184\u001b[0m   tmp_logs \u001b[38;5;241m=\u001b[39m \u001b[38;5;28;43mself\u001b[39;49m\u001b[38;5;241;43m.\u001b[39;49m\u001b[43mtrain_function\u001b[49m\u001b[43m(\u001b[49m\u001b[43miterator\u001b[49m\u001b[43m)\u001b[49m\n\u001b[1;32m   1185\u001b[0m   \u001b[38;5;28;01mif\u001b[39;00m data_handler\u001b[38;5;241m.\u001b[39mshould_sync:\n\u001b[1;32m   1186\u001b[0m     context\u001b[38;5;241m.\u001b[39masync_wait()\n",
      "File \u001b[0;32m~/opt/miniconda/lib/python3.9/site-packages/tensorflow/python/util/traceback_utils.py:153\u001b[0m, in \u001b[0;36mfilter_traceback.<locals>.error_handler\u001b[0;34m(*args, **kwargs)\u001b[0m\n\u001b[1;32m    151\u001b[0m \u001b[38;5;28;01mexcept\u001b[39;00m \u001b[38;5;167;01mException\u001b[39;00m \u001b[38;5;28;01mas\u001b[39;00m e:\n\u001b[1;32m    152\u001b[0m   filtered_tb \u001b[38;5;241m=\u001b[39m _process_traceback_frames(e\u001b[38;5;241m.\u001b[39m__traceback__)\n\u001b[0;32m--> 153\u001b[0m   \u001b[38;5;28;01mraise\u001b[39;00m e\u001b[38;5;241m.\u001b[39mwith_traceback(filtered_tb) \u001b[38;5;28;01mfrom\u001b[39;00m \u001b[38;5;28mNone\u001b[39m\n\u001b[1;32m    154\u001b[0m \u001b[38;5;28;01mfinally\u001b[39;00m:\n\u001b[1;32m    155\u001b[0m   \u001b[38;5;28;01mdel\u001b[39;00m filtered_tb\n",
      "File \u001b[0;32m~/opt/miniconda/lib/python3.9/site-packages/tensorflow/python/framework/func_graph.py:1129\u001b[0m, in \u001b[0;36mfunc_graph_from_py_func.<locals>.autograph_handler\u001b[0;34m(*args, **kwargs)\u001b[0m\n\u001b[1;32m   1127\u001b[0m \u001b[38;5;28;01mexcept\u001b[39;00m \u001b[38;5;167;01mException\u001b[39;00m \u001b[38;5;28;01mas\u001b[39;00m e:  \u001b[38;5;66;03m# pylint:disable=broad-except\u001b[39;00m\n\u001b[1;32m   1128\u001b[0m   \u001b[38;5;28;01mif\u001b[39;00m \u001b[38;5;28mhasattr\u001b[39m(e, \u001b[38;5;124m\"\u001b[39m\u001b[38;5;124mag_error_metadata\u001b[39m\u001b[38;5;124m\"\u001b[39m):\n\u001b[0;32m-> 1129\u001b[0m     \u001b[38;5;28;01mraise\u001b[39;00m e\u001b[38;5;241m.\u001b[39mag_error_metadata\u001b[38;5;241m.\u001b[39mto_exception(e)\n\u001b[1;32m   1130\u001b[0m   \u001b[38;5;28;01melse\u001b[39;00m:\n\u001b[1;32m   1131\u001b[0m     \u001b[38;5;28;01mraise\u001b[39;00m\n",
      "\u001b[0;31mValueError\u001b[0m: in user code:\n\n    File \"/Users/reidbongard/opt/miniconda/lib/python3.9/site-packages/keras/engine/training.py\", line 853, in train_function  *\n        return step_function(self, iterator)\n    File \"/Users/reidbongard/opt/miniconda/lib/python3.9/site-packages/keras/engine/training.py\", line 842, in step_function  **\n        outputs = model.distribute_strategy.run(run_step, args=(data,))\n    File \"/Users/reidbongard/opt/miniconda/lib/python3.9/site-packages/keras/engine/training.py\", line 835, in run_step  **\n        outputs = model.train_step(data)\n    File \"/Users/reidbongard/opt/miniconda/lib/python3.9/site-packages/keras/engine/training.py\", line 787, in train_step\n        y_pred = self(x, training=True)\n    File \"/Users/reidbongard/opt/miniconda/lib/python3.9/site-packages/keras/engine/base_layer.py\", line 1020, in __call__\n        input_spec.assert_input_compatibility(self.input_spec, inputs, self.name)\n    File \"/Users/reidbongard/opt/miniconda/lib/python3.9/site-packages/keras/engine/input_spec.py\", line 214, in assert_input_compatibility\n        raise ValueError('Input ' + str(input_index) + ' of layer ' +\n\n    ValueError: Input 0 of layer sequential_4 is incompatible with the layer: expected ndim=3, found ndim=2. Full shape received: (None, 15)\n"
     ]
    }
   ],
   "source": [
    "model.fit(np.array(X_train), np.array(y_train_30), epochs=3, batch_size=64)"
   ]
  },
  {
   "cell_type": "code",
   "execution_count": null,
   "id": "4d21329b-7dd4-4836-91f8-0de68160b1c8",
   "metadata": {},
   "outputs": [],
   "source": [
    "scores = model.evaluate(X_test, y_test, verbose=0)\n",
    "print(\"Accuracy: %.2f%%\" % (scores[1]*100))"
   ]
  }
 ],
 "metadata": {
  "kernelspec": {
   "display_name": "Python 3 (ipykernel)",
   "language": "python",
   "name": "python3"
  },
  "language_info": {
   "codemirror_mode": {
    "name": "ipython",
    "version": 3
   },
   "file_extension": ".py",
   "mimetype": "text/x-python",
   "name": "python",
   "nbconvert_exporter": "python",
   "pygments_lexer": "ipython3",
   "version": "3.9.12"
  }
 },
 "nbformat": 4,
 "nbformat_minor": 5
}
